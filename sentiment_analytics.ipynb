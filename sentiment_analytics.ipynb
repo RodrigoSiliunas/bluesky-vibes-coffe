{
 "cells": [
  {
   "cell_type": "markdown",
   "metadata": {},
   "source": [
    "# Introdução a Análise de Sentimento com Bluesky! 🍓🦋\n",
    "## Utilizando Machine Learning para Monitorar o Comportamento Emocional nas Redes Sociais\n",
    "\n",
    "Nos últimos anos, a análise de sentimentos tornou-se uma ferramenta fundamental para compreender as interações de usuários em plataformas digitais. Com a crescente ascençao de redes sociais, como o Bluesky, é possível obter insights valiosos sobre o comportamento dos usuários através da análise de suas postagens. O objetivo deste trabalho é aplicar técnicas de Machine Learning para realizar a análise de sentimentos em postagens de usuários da plataforma Bluesky, utilizando bibliotecas como Pandas e Scikit-Learn.\n",
    "\n",
    "O foco principal do projeto é classificar as postagens em sentimentos positivos, neutros e negativos. Com base nessa classificação, será possível atribuir uma nota ao comportamento do usuário ao longo do tempo, permitindo que ele monitore seu estado emocional. Ao identificar tendências depressivas ou negativas em suas postagens, um sistema da rede poderia emitir alertas, visando estimular a auto-reflexão e o autocuidado.\n",
    "\n",
    "Para atingir esse objetivo, o trabalho será dividido em diversas etapas, desde a coleta e pré-processamento dos dados, até a construção de modelos de classificação de sentimentos. O uso das bibliotecas Pandas facilitará a manipulação e limpeza dos dados, enquanto o Scikit-Learn fornecerá as ferramentas necessárias para a construção dos modelos de aprendizado de máquina. Ao final, espera-se oferecer uma solução eficiente para monitoramento do comportamento emocional dos usuários na plataforma Bluesky, promovendo um ambiente digital mais saudável e equilibrado.\n",
    "\n",
    "Embora esta seja uma proposta teórica, sua aplicação prática pode ser verificada por cientistas de dados que desejem rodar o código base, visualizando o resultado da análise e dos modelos de aprendizado. Para o treinamento do algoritmo de Machine Learning, estamos utilizando o famoso [Brazilian E-Commerce Public Dataset](https://www.kaggle.com/datasets/olistbr/brazilian-ecommerce), um conjunto de dados que oferece uma base sólida para treinar modelos de classificação de sentimentos em textos."
   ]
  },
  {
   "cell_type": "code",
   "execution_count": 1,
   "metadata": {},
   "outputs": [],
   "source": [
    "# Essa célula de código importa o módulo warnings passa a ignorar possiveis avisos provenientes das bibliotecas no Python.\n",
    "# Realizamos essa importação para que não tenhamos atenção tomada para avisos que não influenciam na execução do código.\n",
    "\n",
    "import warnings\n",
    "warnings.filterwarnings(\"ignore\")"
   ]
  },
  {
   "cell_type": "markdown",
   "metadata": {},
   "source": [
    "# Numpy & Pandas: A dupla (realmente) dinâmica\n",
    "\n",
    "*`NumPy`* e *`Pandas`* são bibliotecas essenciais no ecossistema Python para ciência de dados e computação numérica. O NumPy fornece suporte para arrays e matrizes multidimensionais, além de funções matemáticas de alto desempenho para operar nesses dados. O Pandas, construído sobre o NumPy, oferece estruturas de dados como Series e DataFrames, que facilitam a manipulação e análise de dados tabulares de forma eficiente.\n",
    "\n",
    "No nosso projeto, utilizaremos ambas as bibliotecas ou partes delas. No entanto, daremos ênfase maior ao uso do Pandas, pois ele nos permite trabalhar de maneira mais eficaz com conjuntos de dados complexos, realizando tarefas de limpeza, transformação e análise exploratória. Embora o NumPy seja menos utilizado diretamente, praticamente todas as bibliotecas voltadas para dados têm um \"dedo\" do NumPy, devido à sua eficiência e velocidade em operações numéricas."
   ]
  },
  {
   "cell_type": "code",
   "execution_count": 2,
   "metadata": {},
   "outputs": [],
   "source": [
    "import pandas as pd\n",
    "import numpy as np"
   ]
  },
  {
   "cell_type": "markdown",
   "metadata": {},
   "source": [
    "# Matplotlib & Seaborn: É melhor que PowerBI mas ainda não perceberam isso\n",
    "\n",
    "*`Seaborn`* e *`matplotlib.pyplot`* são bibliotecas em Python utilizadas para criar visualizações gráficas de dados. O matplotlib.pyplot oferece funções básicas para plotagem de gráficos, como linhas, barras e dispersão. Já o Seaborn é construído sobre o Matplotlib e fornece uma interface mais amigável para gerar gráficos estatísticos atraentes e informativos.\n",
    "\n",
    "Embora tenhamos importado essas bibliotecas para o nosso projeto, não realizaremos análises gráficas devido à falta de tempo. No entanto, é importante conhecer essas ferramentas, pois elas são essenciais para visualizar dados e identificar padrões ou tendências."
   ]
  },
  {
   "cell_type": "code",
   "execution_count": 3,
   "metadata": {},
   "outputs": [],
   "source": [
    "import matplotlib.pyplot as plt\n",
    "import seaborn as sns"
   ]
  },
  {
   "cell_type": "markdown",
   "metadata": {},
   "source": [
    "# Scikit-learn: A biblioteca mais simples de utilizar\n",
    "### Dizem que você pode criar redes neurais com quatro linhas e que você programa pior por causa disso\n",
    "\n",
    "*`Scikit-learn`* é uma biblioteca em Python que fornece ferramentas para a construção de modelos de aprendizado de máquina, classificação, regressão e outras tarefas de machine learning. Ele possui uma API simples e intuitiva, facilitando a integração com outros frameworks e bibliotecas.\n",
    "\n",
    "No nosso projeto, utilizaremos o Scikit-learn para classificar as postagens de usuários de acordo com os sentimentos positivos, neutros e negativos, bem como para treinar um modelo de aprendizado de máquina para realizar a análise de sentimentos.\n",
    "\n",
    "_____________________________________________________________________________\n",
    "\n",
    "### Divisão de Dados e Pipelines\n",
    "* `from sklearn.model_selection import train_test_split`</br>\n",
    "Função para dividir o conjunto de dados em conjuntos de treinamento e teste.\n",
    "\n",
    "* `from sklearn.pipeline import Pipeline`</br>\n",
    "Classe que permite a criação de uma sequência de transformações e um estimador final em um único objeto.\n",
    "\n",
    "____________________________________________________________________________\n",
    "\n",
    "### Extração de Características de Texto\n",
    "* `from sklearn.feature_extraction.text import CountVectorizer`</br>\n",
    "Converte uma coleção de documentos de texto em uma matriz de contagem de tokens (bag-of-words).\n",
    "\n",
    "* `from sklearn.feature_extraction.text import TfidfVectorizer`</br>\n",
    "Transforma textos em uma representação numérica baseada no TF-IDF (Term Frequency-Inverse Document Frequency).\n",
    "\n",
    "____________________________________________________________________________\n",
    "\n",
    "### Modelos de Aprendizado de Máquina\n",
    "\n",
    "* `from sklearn.linear_model import LogisticRegression`</br>\n",
    "Implementação do modelo de Regressão Logística para tarefas de classificação.\n",
    "\n",
    "* `from sklearn.naive_bayes import MultinomialNB`</br>\n",
    "Classificador Naive Bayes Multinomial, frequentemente usado em dados discretos como contagens de palavras\n",
    "\n",
    "____________________________________________________________________________\n",
    "\n",
    "### Métricas de Avaliação\n",
    "\n",
    "* `from sklearn.metrics import accuracy_score`</br>\n",
    "Calcula a acurácia da classificação.\n",
    "\n",
    "* `from sklearn.metrics import confusion_matrix`</br>\n",
    "Gera a matriz de confusão para avaliar a qualidade das previsões.\n",
    "\n",
    "* `from sklearn.metrics import f1_score`</br>\n",
    "Calcula o F1-Score, a média harmônica da precisão e recall.\n",
    "\n",
    "* `from sklearn.metrics import roc_auc_score`</br>\n",
    "Calcula a área sob a curva ROC, utilizada para avaliar modelos de classificação binária."
   ]
  },
  {
   "cell_type": "code",
   "execution_count": 4,
   "metadata": {},
   "outputs": [],
   "source": [
    "from sklearn.model_selection import train_test_split\n",
    "from sklearn.pipeline import Pipeline\n",
    "\n",
    "from sklearn.feature_extraction.text import CountVectorizer\n",
    "from sklearn.feature_extraction.text import TfidfVectorizer\n",
    "\n",
    "from sklearn.linear_model import LogisticRegression\n",
    "from sklearn.naive_bayes import MultinomialNB\n",
    "\n",
    "from sklearn.metrics import accuracy_score, confusion_matrix, f1_score, roc_auc_score"
   ]
  },
  {
   "cell_type": "markdown",
   "metadata": {},
   "source": [
    "# Um resumo sobre o NLTK\n",
    "\n",
    "O **NLTK (Natural Language Toolkit)** é uma biblioteca em Python destinada ao **Processamento de Linguagem Natural (PLN)** (Ou NLP se você manjar do Engrish). Ela oferece um conjunto abrangente de ferramentas e recursos para trabalhar com dados textuais. Com o NLTK, é possível realizar diversas tarefas, como:\n",
    "\n",
    "* **Tokenização**: Dividir texto em unidades linguísticas, como palavras ou frases.\n",
    "* **Stemming e Lematização**: Reduzir palavras às suas raízes ou formas canônicas.\n",
    "* **Remoção de Stopwords**: Eliminar palavras comuns que podem não agregar significado significativo à análise.\n",
    "* **Análise Sintática**: Entender a estrutura gramatical das sentenças.\n",
    "* **Extração de Entidades Nomeadas**: Identificar e classificar elementos importantes no texto, como nomes de pessoas, lugares ou organizações.\n",
    "\n",
    "O NLTK é amplamente utilizado em projetos de **mineração de texto, chatbots, análise de sentimentos** e outras aplicações que envolvem a compreensão e manipulação de linguagem humana. Ele facilita o desenvolvimento de soluções complexas de PLN, fornecendo módulos prontos e datasets para experimentação e pesquisa.\n",
    "\n",
    "_____________________________________________________________________________\n",
    "\n",
    "# NLTK em nosso contexto\n",
    "* `from nltk.corpus import stopwords`</br>\n",
    "Importa uma lista de stopwords, que são palavras comuns em um idioma (como \"e\", \"de\", \"o\") que geralmente são removidas durante o pré-processamento de texto para melhorar a análise, já que adicionam pouco valor semântico.\n",
    "\n",
    "* `from nltk.tokenize import word_tokenize`</br>\n",
    "Importa a função de tokenização de palavras, que divide um texto em palavras individuais ou tokens. Essa etapa é fundamental para preparar os dados textuais para tarefas de processamento de linguagem natural."
   ]
  },
  {
   "cell_type": "code",
   "execution_count": 5,
   "metadata": {},
   "outputs": [],
   "source": [
    "from nltk.corpus import stopwords\n",
    "from nltk.tokenize import word_tokenize"
   ]
  },
  {
   "cell_type": "code",
   "execution_count": 6,
   "metadata": {},
   "outputs": [
    {
     "name": "stderr",
     "output_type": "stream",
     "text": [
      "[nltk_data] Downloading package stopwords to\n",
      "[nltk_data]     C:\\Users\\rodri\\AppData\\Roaming\\nltk_data...\n",
      "[nltk_data]   Package stopwords is already up-to-date!\n",
      "[nltk_data] Downloading package punkt to\n",
      "[nltk_data]     C:\\Users\\rodri\\AppData\\Roaming\\nltk_data...\n",
      "[nltk_data]   Package punkt is already up-to-date!\n",
      "[nltk_data] Downloading package punkt_tab to\n",
      "[nltk_data]     C:\\Users\\rodri\\AppData\\Roaming\\nltk_data...\n",
      "[nltk_data]   Package punkt_tab is already up-to-date!\n"
     ]
    },
    {
     "data": {
      "text/plain": [
       "True"
      ]
     },
     "execution_count": 6,
     "metadata": {},
     "output_type": "execute_result"
    }
   ],
   "source": [
    "# Certifique-se de que as stopwords estão baixadas\n",
    "import nltk\n",
    "nltk.download('stopwords')\n",
    "nltk.download('punkt')\n",
    "nltk.download('punkt_tab')"
   ]
  },
  {
   "cell_type": "markdown",
   "metadata": {},
   "source": [
    "# AT Proto: Redes sociais descentralizadas? Quanto tempo até os malucos começarem a criar as redes deles?\n",
    "\n",
    "O AT Protocol (Authenticated Transfer Protocol) é uma nova estrutura descentralizada para redes sociais, desenvolvida para promover a interoperabilidade entre diferentes plataformas, permitindo que usuários tenham controle sobre seus dados e identidades digitais. O **Bluesky** é uma plataforma de mídia social que utiliza o *AT Protocol* para oferecer uma experiência de rede descentralizada e mais aberta.\n",
    "\n",
    "No contexto da nossa aplicação, fazemos uso do AT Protocol em conjunto com o *Bluesky* para nos conectar à API do *Bluesky* e obter os últimos cem posts de um determinado perfil de usuário. Isso nos permite extrair e analisar conteúdos de usuários específicos, aproveitando a flexibilidade e a segurança proporcionadas pela arquitetura descentralizada do AT Protocol."
   ]
  },
  {
   "cell_type": "code",
   "execution_count": 7,
   "metadata": {},
   "outputs": [],
   "source": [
    "from atproto import Client"
   ]
  },
  {
   "cell_type": "markdown",
   "metadata": {},
   "source": [
    "# Código Limpo: É código legível OU código que segue padrões de um livro? Sei lá\n",
    "\n",
    "Obrigado pela leitura! Adorei nosso papo, mas agora vou permitir que o código fale por si mesmo. Abaixo, você encontrará o código seguido de pequenos comentários."
   ]
  },
  {
   "cell_type": "code",
   "execution_count": 8,
   "metadata": {},
   "outputs": [
    {
     "data": {
      "text/plain": [
       "(99224, 7)"
      ]
     },
     "execution_count": 8,
     "metadata": {},
     "output_type": "execute_result"
    }
   ],
   "source": [
    "# Realizamos a leitura dos dados CSV e transformamos em DataFrame com Pandas; Trabalharemos com o Dataset \"Olist\" nesse projeto\n",
    "df = pd.read_csv('./olist_order_reviews_dataset.csv')\n",
    "\n",
    "# Exibimos o a quantidade de linhas e colunas em nosso DataFrame\n",
    "df.shape"
   ]
  },
  {
   "cell_type": "code",
   "execution_count": 9,
   "metadata": {},
   "outputs": [
    {
     "name": "stdout",
     "output_type": "stream",
     "text": [
      "Número de reviews: 99224\n",
      "Registros únicos de reviews: 98410\n"
     ]
    }
   ],
   "source": [
    "print(f'Número de reviews: {len(df)}')\n",
    "print(f'Registros únicos de reviews: {df[\"review_id\"].nunique()}')"
   ]
  },
  {
   "cell_type": "code",
   "execution_count": 10,
   "metadata": {},
   "outputs": [
    {
     "data": {
      "text/plain": [
       "review_id                      0\n",
       "order_id                       0\n",
       "review_score                   0\n",
       "review_comment_title       87656\n",
       "review_comment_message     58247\n",
       "review_creation_date           0\n",
       "review_answer_timestamp        0\n",
       "dtype: int64"
      ]
     },
     "execution_count": 10,
     "metadata": {},
     "output_type": "execute_result"
    }
   ],
   "source": [
    "# Qual a quantidade de registro nulos por feature?\n",
    "df.isnull().sum()"
   ]
  },
  {
   "cell_type": "code",
   "execution_count": 11,
   "metadata": {},
   "outputs": [],
   "source": [
    "# Registro com comentário nulo obviamente não nos serve, então descartamos:\n",
    "df = df.dropna(subset=['review_comment_message'])"
   ]
  },
  {
   "cell_type": "code",
   "execution_count": 12,
   "metadata": {},
   "outputs": [],
   "source": [
    "# E também foi detectado registro com id duplicado, portanto, vamos descartar o lixo:\n",
    "df.drop_duplicates(subset='review_id', inplace=True)"
   ]
  },
  {
   "cell_type": "code",
   "execution_count": 13,
   "metadata": {},
   "outputs": [],
   "source": [
    "# Para fazer o processo de steaming nós optamos por trabalhar com todas palavras em minúsculo\n",
    "df['review_comment_message'] = df['review_comment_message'].map(lambda x: x.lower())"
   ]
  },
  {
   "cell_type": "code",
   "execution_count": 14,
   "metadata": {},
   "outputs": [],
   "source": [
    "# Como também nosso foco é análise de sentimento, tanto faz as colunas order_id, review_creation_date e review_answer_timestamp\n",
    "df.drop(columns=['order_id', 'review_creation_date', 'review_answer_timestamp'], inplace=True)"
   ]
  },
  {
   "cell_type": "code",
   "execution_count": 15,
   "metadata": {},
   "outputs": [],
   "source": [
    "# Preenche os vazios para não ter problemas de concatenação futura\n",
    "df['review_comment_title'].fillna('', inplace=True)\n",
    "\n",
    "# Para melhorar nosso target a gente vai criar uma nova feature que é a junção do título com os comentários\n",
    "df['review'] = df['review_comment_title'] + ' ' + df['review_comment_message']\n",
    "\n",
    "# Filtra os reviews que não possuem texto, já que não temos como fazer o processamento de texto com um texto vazio.\n",
    "df = df[(df['review'] != ' ') & (df['review'] != '') & (df['review'] != np.nan)]"
   ]
  },
  {
   "cell_type": "code",
   "execution_count": 16,
   "metadata": {},
   "outputs": [],
   "source": [
    "# Então basicamente temos essa feature chamada review_score que é nada mais nada menos que a classificação da avaliação, se ela é positiva, ou negativa.\n",
    "# Está por estrela, mas se for maior que três estrelas a gente considera positiva e se for menos que isso é negativa.\n",
    "# Então basicamente temos como resultado as labels.\n",
    "\n",
    "labels = []\n",
    "\n",
    "for score in df['review_score']:\n",
    "  if score > 3.5:\n",
    "    labels.append(1)\n",
    "  else:\n",
    "    labels.append(0)\n",
    "\n",
    "df['label'] = labels"
   ]
  },
  {
   "cell_type": "code",
   "execution_count": 17,
   "metadata": {},
   "outputs": [],
   "source": [
    "# Obtém as stopwords em português do módulo NLTK\n",
    "stop_words = stopwords.words(\"portuguese\")\n",
    "\n",
    "# Remoção das stopwords \"não\" e \"nem\" pois elas modificam drasticamente o sentido de uma frase, portanto, para melhor performance optamos por remove-las.\n",
    "stop_words.remove('não')\n",
    "stop_words.remove('nem')"
   ]
  },
  {
   "cell_type": "code",
   "execution_count": 18,
   "metadata": {},
   "outputs": [],
   "source": [
    "import re\n",
    "\n",
    "# Função para limpar o texto\n",
    "def clean_text(text):\n",
    "    text = re.sub(r\"[\\W\\d_]+\", \" \", text)\n",
    "    tokens = word_tokenize(text)\n",
    "    cleaned_text = ' '.join([word for word in tokens if word not in set(stop_words)])\n",
    "    return cleaned_text"
   ]
  },
  {
   "cell_type": "code",
   "execution_count": 19,
   "metadata": {},
   "outputs": [],
   "source": [
    "# Usamos a função que limpa o texto em nossa coluna de review\n",
    "df['review'] = df['review'].apply(clean_text)"
   ]
  },
  {
   "cell_type": "code",
   "execution_count": 20,
   "metadata": {},
   "outputs": [],
   "source": [
    "vectorizer = CountVectorizer(binary=True, max_features=5000)"
   ]
  },
  {
   "cell_type": "code",
   "execution_count": 21,
   "metadata": {},
   "outputs": [],
   "source": [
    "X = vectorizer.fit_transform(df['review'])"
   ]
  },
  {
   "cell_type": "code",
   "execution_count": 22,
   "metadata": {},
   "outputs": [],
   "source": [
    "X_train, X_test, y_train, y_test = \\\n",
    "    train_test_split(X, df['label'], test_size=0.3, random_state=42)"
   ]
  },
  {
   "cell_type": "code",
   "execution_count": 23,
   "metadata": {},
   "outputs": [
    {
     "data": {
      "text/html": [
       "<style>#sk-container-id-1 {\n",
       "  /* Definition of color scheme common for light and dark mode */\n",
       "  --sklearn-color-text: black;\n",
       "  --sklearn-color-line: gray;\n",
       "  /* Definition of color scheme for unfitted estimators */\n",
       "  --sklearn-color-unfitted-level-0: #fff5e6;\n",
       "  --sklearn-color-unfitted-level-1: #f6e4d2;\n",
       "  --sklearn-color-unfitted-level-2: #ffe0b3;\n",
       "  --sklearn-color-unfitted-level-3: chocolate;\n",
       "  /* Definition of color scheme for fitted estimators */\n",
       "  --sklearn-color-fitted-level-0: #f0f8ff;\n",
       "  --sklearn-color-fitted-level-1: #d4ebff;\n",
       "  --sklearn-color-fitted-level-2: #b3dbfd;\n",
       "  --sklearn-color-fitted-level-3: cornflowerblue;\n",
       "\n",
       "  /* Specific color for light theme */\n",
       "  --sklearn-color-text-on-default-background: var(--sg-text-color, var(--theme-code-foreground, var(--jp-content-font-color1, black)));\n",
       "  --sklearn-color-background: var(--sg-background-color, var(--theme-background, var(--jp-layout-color0, white)));\n",
       "  --sklearn-color-border-box: var(--sg-text-color, var(--theme-code-foreground, var(--jp-content-font-color1, black)));\n",
       "  --sklearn-color-icon: #696969;\n",
       "\n",
       "  @media (prefers-color-scheme: dark) {\n",
       "    /* Redefinition of color scheme for dark theme */\n",
       "    --sklearn-color-text-on-default-background: var(--sg-text-color, var(--theme-code-foreground, var(--jp-content-font-color1, white)));\n",
       "    --sklearn-color-background: var(--sg-background-color, var(--theme-background, var(--jp-layout-color0, #111)));\n",
       "    --sklearn-color-border-box: var(--sg-text-color, var(--theme-code-foreground, var(--jp-content-font-color1, white)));\n",
       "    --sklearn-color-icon: #878787;\n",
       "  }\n",
       "}\n",
       "\n",
       "#sk-container-id-1 {\n",
       "  color: var(--sklearn-color-text);\n",
       "}\n",
       "\n",
       "#sk-container-id-1 pre {\n",
       "  padding: 0;\n",
       "}\n",
       "\n",
       "#sk-container-id-1 input.sk-hidden--visually {\n",
       "  border: 0;\n",
       "  clip: rect(1px 1px 1px 1px);\n",
       "  clip: rect(1px, 1px, 1px, 1px);\n",
       "  height: 1px;\n",
       "  margin: -1px;\n",
       "  overflow: hidden;\n",
       "  padding: 0;\n",
       "  position: absolute;\n",
       "  width: 1px;\n",
       "}\n",
       "\n",
       "#sk-container-id-1 div.sk-dashed-wrapped {\n",
       "  border: 1px dashed var(--sklearn-color-line);\n",
       "  margin: 0 0.4em 0.5em 0.4em;\n",
       "  box-sizing: border-box;\n",
       "  padding-bottom: 0.4em;\n",
       "  background-color: var(--sklearn-color-background);\n",
       "}\n",
       "\n",
       "#sk-container-id-1 div.sk-container {\n",
       "  /* jupyter's `normalize.less` sets `[hidden] { display: none; }`\n",
       "     but bootstrap.min.css set `[hidden] { display: none !important; }`\n",
       "     so we also need the `!important` here to be able to override the\n",
       "     default hidden behavior on the sphinx rendered scikit-learn.org.\n",
       "     See: https://github.com/scikit-learn/scikit-learn/issues/21755 */\n",
       "  display: inline-block !important;\n",
       "  position: relative;\n",
       "}\n",
       "\n",
       "#sk-container-id-1 div.sk-text-repr-fallback {\n",
       "  display: none;\n",
       "}\n",
       "\n",
       "div.sk-parallel-item,\n",
       "div.sk-serial,\n",
       "div.sk-item {\n",
       "  /* draw centered vertical line to link estimators */\n",
       "  background-image: linear-gradient(var(--sklearn-color-text-on-default-background), var(--sklearn-color-text-on-default-background));\n",
       "  background-size: 2px 100%;\n",
       "  background-repeat: no-repeat;\n",
       "  background-position: center center;\n",
       "}\n",
       "\n",
       "/* Parallel-specific style estimator block */\n",
       "\n",
       "#sk-container-id-1 div.sk-parallel-item::after {\n",
       "  content: \"\";\n",
       "  width: 100%;\n",
       "  border-bottom: 2px solid var(--sklearn-color-text-on-default-background);\n",
       "  flex-grow: 1;\n",
       "}\n",
       "\n",
       "#sk-container-id-1 div.sk-parallel {\n",
       "  display: flex;\n",
       "  align-items: stretch;\n",
       "  justify-content: center;\n",
       "  background-color: var(--sklearn-color-background);\n",
       "  position: relative;\n",
       "}\n",
       "\n",
       "#sk-container-id-1 div.sk-parallel-item {\n",
       "  display: flex;\n",
       "  flex-direction: column;\n",
       "}\n",
       "\n",
       "#sk-container-id-1 div.sk-parallel-item:first-child::after {\n",
       "  align-self: flex-end;\n",
       "  width: 50%;\n",
       "}\n",
       "\n",
       "#sk-container-id-1 div.sk-parallel-item:last-child::after {\n",
       "  align-self: flex-start;\n",
       "  width: 50%;\n",
       "}\n",
       "\n",
       "#sk-container-id-1 div.sk-parallel-item:only-child::after {\n",
       "  width: 0;\n",
       "}\n",
       "\n",
       "/* Serial-specific style estimator block */\n",
       "\n",
       "#sk-container-id-1 div.sk-serial {\n",
       "  display: flex;\n",
       "  flex-direction: column;\n",
       "  align-items: center;\n",
       "  background-color: var(--sklearn-color-background);\n",
       "  padding-right: 1em;\n",
       "  padding-left: 1em;\n",
       "}\n",
       "\n",
       "\n",
       "/* Toggleable style: style used for estimator/Pipeline/ColumnTransformer box that is\n",
       "clickable and can be expanded/collapsed.\n",
       "- Pipeline and ColumnTransformer use this feature and define the default style\n",
       "- Estimators will overwrite some part of the style using the `sk-estimator` class\n",
       "*/\n",
       "\n",
       "/* Pipeline and ColumnTransformer style (default) */\n",
       "\n",
       "#sk-container-id-1 div.sk-toggleable {\n",
       "  /* Default theme specific background. It is overwritten whether we have a\n",
       "  specific estimator or a Pipeline/ColumnTransformer */\n",
       "  background-color: var(--sklearn-color-background);\n",
       "}\n",
       "\n",
       "/* Toggleable label */\n",
       "#sk-container-id-1 label.sk-toggleable__label {\n",
       "  cursor: pointer;\n",
       "  display: block;\n",
       "  width: 100%;\n",
       "  margin-bottom: 0;\n",
       "  padding: 0.5em;\n",
       "  box-sizing: border-box;\n",
       "  text-align: center;\n",
       "}\n",
       "\n",
       "#sk-container-id-1 label.sk-toggleable__label-arrow:before {\n",
       "  /* Arrow on the left of the label */\n",
       "  content: \"▸\";\n",
       "  float: left;\n",
       "  margin-right: 0.25em;\n",
       "  color: var(--sklearn-color-icon);\n",
       "}\n",
       "\n",
       "#sk-container-id-1 label.sk-toggleable__label-arrow:hover:before {\n",
       "  color: var(--sklearn-color-text);\n",
       "}\n",
       "\n",
       "/* Toggleable content - dropdown */\n",
       "\n",
       "#sk-container-id-1 div.sk-toggleable__content {\n",
       "  max-height: 0;\n",
       "  max-width: 0;\n",
       "  overflow: hidden;\n",
       "  text-align: left;\n",
       "  /* unfitted */\n",
       "  background-color: var(--sklearn-color-unfitted-level-0);\n",
       "}\n",
       "\n",
       "#sk-container-id-1 div.sk-toggleable__content.fitted {\n",
       "  /* fitted */\n",
       "  background-color: var(--sklearn-color-fitted-level-0);\n",
       "}\n",
       "\n",
       "#sk-container-id-1 div.sk-toggleable__content pre {\n",
       "  margin: 0.2em;\n",
       "  border-radius: 0.25em;\n",
       "  color: var(--sklearn-color-text);\n",
       "  /* unfitted */\n",
       "  background-color: var(--sklearn-color-unfitted-level-0);\n",
       "}\n",
       "\n",
       "#sk-container-id-1 div.sk-toggleable__content.fitted pre {\n",
       "  /* unfitted */\n",
       "  background-color: var(--sklearn-color-fitted-level-0);\n",
       "}\n",
       "\n",
       "#sk-container-id-1 input.sk-toggleable__control:checked~div.sk-toggleable__content {\n",
       "  /* Expand drop-down */\n",
       "  max-height: 200px;\n",
       "  max-width: 100%;\n",
       "  overflow: auto;\n",
       "}\n",
       "\n",
       "#sk-container-id-1 input.sk-toggleable__control:checked~label.sk-toggleable__label-arrow:before {\n",
       "  content: \"▾\";\n",
       "}\n",
       "\n",
       "/* Pipeline/ColumnTransformer-specific style */\n",
       "\n",
       "#sk-container-id-1 div.sk-label input.sk-toggleable__control:checked~label.sk-toggleable__label {\n",
       "  color: var(--sklearn-color-text);\n",
       "  background-color: var(--sklearn-color-unfitted-level-2);\n",
       "}\n",
       "\n",
       "#sk-container-id-1 div.sk-label.fitted input.sk-toggleable__control:checked~label.sk-toggleable__label {\n",
       "  background-color: var(--sklearn-color-fitted-level-2);\n",
       "}\n",
       "\n",
       "/* Estimator-specific style */\n",
       "\n",
       "/* Colorize estimator box */\n",
       "#sk-container-id-1 div.sk-estimator input.sk-toggleable__control:checked~label.sk-toggleable__label {\n",
       "  /* unfitted */\n",
       "  background-color: var(--sklearn-color-unfitted-level-2);\n",
       "}\n",
       "\n",
       "#sk-container-id-1 div.sk-estimator.fitted input.sk-toggleable__control:checked~label.sk-toggleable__label {\n",
       "  /* fitted */\n",
       "  background-color: var(--sklearn-color-fitted-level-2);\n",
       "}\n",
       "\n",
       "#sk-container-id-1 div.sk-label label.sk-toggleable__label,\n",
       "#sk-container-id-1 div.sk-label label {\n",
       "  /* The background is the default theme color */\n",
       "  color: var(--sklearn-color-text-on-default-background);\n",
       "}\n",
       "\n",
       "/* On hover, darken the color of the background */\n",
       "#sk-container-id-1 div.sk-label:hover label.sk-toggleable__label {\n",
       "  color: var(--sklearn-color-text);\n",
       "  background-color: var(--sklearn-color-unfitted-level-2);\n",
       "}\n",
       "\n",
       "/* Label box, darken color on hover, fitted */\n",
       "#sk-container-id-1 div.sk-label.fitted:hover label.sk-toggleable__label.fitted {\n",
       "  color: var(--sklearn-color-text);\n",
       "  background-color: var(--sklearn-color-fitted-level-2);\n",
       "}\n",
       "\n",
       "/* Estimator label */\n",
       "\n",
       "#sk-container-id-1 div.sk-label label {\n",
       "  font-family: monospace;\n",
       "  font-weight: bold;\n",
       "  display: inline-block;\n",
       "  line-height: 1.2em;\n",
       "}\n",
       "\n",
       "#sk-container-id-1 div.sk-label-container {\n",
       "  text-align: center;\n",
       "}\n",
       "\n",
       "/* Estimator-specific */\n",
       "#sk-container-id-1 div.sk-estimator {\n",
       "  font-family: monospace;\n",
       "  border: 1px dotted var(--sklearn-color-border-box);\n",
       "  border-radius: 0.25em;\n",
       "  box-sizing: border-box;\n",
       "  margin-bottom: 0.5em;\n",
       "  /* unfitted */\n",
       "  background-color: var(--sklearn-color-unfitted-level-0);\n",
       "}\n",
       "\n",
       "#sk-container-id-1 div.sk-estimator.fitted {\n",
       "  /* fitted */\n",
       "  background-color: var(--sklearn-color-fitted-level-0);\n",
       "}\n",
       "\n",
       "/* on hover */\n",
       "#sk-container-id-1 div.sk-estimator:hover {\n",
       "  /* unfitted */\n",
       "  background-color: var(--sklearn-color-unfitted-level-2);\n",
       "}\n",
       "\n",
       "#sk-container-id-1 div.sk-estimator.fitted:hover {\n",
       "  /* fitted */\n",
       "  background-color: var(--sklearn-color-fitted-level-2);\n",
       "}\n",
       "\n",
       "/* Specification for estimator info (e.g. \"i\" and \"?\") */\n",
       "\n",
       "/* Common style for \"i\" and \"?\" */\n",
       "\n",
       ".sk-estimator-doc-link,\n",
       "a:link.sk-estimator-doc-link,\n",
       "a:visited.sk-estimator-doc-link {\n",
       "  float: right;\n",
       "  font-size: smaller;\n",
       "  line-height: 1em;\n",
       "  font-family: monospace;\n",
       "  background-color: var(--sklearn-color-background);\n",
       "  border-radius: 1em;\n",
       "  height: 1em;\n",
       "  width: 1em;\n",
       "  text-decoration: none !important;\n",
       "  margin-left: 1ex;\n",
       "  /* unfitted */\n",
       "  border: var(--sklearn-color-unfitted-level-1) 1pt solid;\n",
       "  color: var(--sklearn-color-unfitted-level-1);\n",
       "}\n",
       "\n",
       ".sk-estimator-doc-link.fitted,\n",
       "a:link.sk-estimator-doc-link.fitted,\n",
       "a:visited.sk-estimator-doc-link.fitted {\n",
       "  /* fitted */\n",
       "  border: var(--sklearn-color-fitted-level-1) 1pt solid;\n",
       "  color: var(--sklearn-color-fitted-level-1);\n",
       "}\n",
       "\n",
       "/* On hover */\n",
       "div.sk-estimator:hover .sk-estimator-doc-link:hover,\n",
       ".sk-estimator-doc-link:hover,\n",
       "div.sk-label-container:hover .sk-estimator-doc-link:hover,\n",
       ".sk-estimator-doc-link:hover {\n",
       "  /* unfitted */\n",
       "  background-color: var(--sklearn-color-unfitted-level-3);\n",
       "  color: var(--sklearn-color-background);\n",
       "  text-decoration: none;\n",
       "}\n",
       "\n",
       "div.sk-estimator.fitted:hover .sk-estimator-doc-link.fitted:hover,\n",
       ".sk-estimator-doc-link.fitted:hover,\n",
       "div.sk-label-container:hover .sk-estimator-doc-link.fitted:hover,\n",
       ".sk-estimator-doc-link.fitted:hover {\n",
       "  /* fitted */\n",
       "  background-color: var(--sklearn-color-fitted-level-3);\n",
       "  color: var(--sklearn-color-background);\n",
       "  text-decoration: none;\n",
       "}\n",
       "\n",
       "/* Span, style for the box shown on hovering the info icon */\n",
       ".sk-estimator-doc-link span {\n",
       "  display: none;\n",
       "  z-index: 9999;\n",
       "  position: relative;\n",
       "  font-weight: normal;\n",
       "  right: .2ex;\n",
       "  padding: .5ex;\n",
       "  margin: .5ex;\n",
       "  width: min-content;\n",
       "  min-width: 20ex;\n",
       "  max-width: 50ex;\n",
       "  color: var(--sklearn-color-text);\n",
       "  box-shadow: 2pt 2pt 4pt #999;\n",
       "  /* unfitted */\n",
       "  background: var(--sklearn-color-unfitted-level-0);\n",
       "  border: .5pt solid var(--sklearn-color-unfitted-level-3);\n",
       "}\n",
       "\n",
       ".sk-estimator-doc-link.fitted span {\n",
       "  /* fitted */\n",
       "  background: var(--sklearn-color-fitted-level-0);\n",
       "  border: var(--sklearn-color-fitted-level-3);\n",
       "}\n",
       "\n",
       ".sk-estimator-doc-link:hover span {\n",
       "  display: block;\n",
       "}\n",
       "\n",
       "/* \"?\"-specific style due to the `<a>` HTML tag */\n",
       "\n",
       "#sk-container-id-1 a.estimator_doc_link {\n",
       "  float: right;\n",
       "  font-size: 1rem;\n",
       "  line-height: 1em;\n",
       "  font-family: monospace;\n",
       "  background-color: var(--sklearn-color-background);\n",
       "  border-radius: 1rem;\n",
       "  height: 1rem;\n",
       "  width: 1rem;\n",
       "  text-decoration: none;\n",
       "  /* unfitted */\n",
       "  color: var(--sklearn-color-unfitted-level-1);\n",
       "  border: var(--sklearn-color-unfitted-level-1) 1pt solid;\n",
       "}\n",
       "\n",
       "#sk-container-id-1 a.estimator_doc_link.fitted {\n",
       "  /* fitted */\n",
       "  border: var(--sklearn-color-fitted-level-1) 1pt solid;\n",
       "  color: var(--sklearn-color-fitted-level-1);\n",
       "}\n",
       "\n",
       "/* On hover */\n",
       "#sk-container-id-1 a.estimator_doc_link:hover {\n",
       "  /* unfitted */\n",
       "  background-color: var(--sklearn-color-unfitted-level-3);\n",
       "  color: var(--sklearn-color-background);\n",
       "  text-decoration: none;\n",
       "}\n",
       "\n",
       "#sk-container-id-1 a.estimator_doc_link.fitted:hover {\n",
       "  /* fitted */\n",
       "  background-color: var(--sklearn-color-fitted-level-3);\n",
       "}\n",
       "</style><div id=\"sk-container-id-1\" class=\"sk-top-container\"><div class=\"sk-text-repr-fallback\"><pre>LogisticRegression()</pre><b>In a Jupyter environment, please rerun this cell to show the HTML representation or trust the notebook. <br />On GitHub, the HTML representation is unable to render, please try loading this page with nbviewer.org.</b></div><div class=\"sk-container\" hidden><div class=\"sk-item\"><div class=\"sk-estimator fitted sk-toggleable\"><input class=\"sk-toggleable__control sk-hidden--visually\" id=\"sk-estimator-id-1\" type=\"checkbox\" checked><label for=\"sk-estimator-id-1\" class=\"sk-toggleable__label fitted sk-toggleable__label-arrow fitted\">&nbsp;&nbsp;LogisticRegression<a class=\"sk-estimator-doc-link fitted\" rel=\"noreferrer\" target=\"_blank\" href=\"https://scikit-learn.org/1.5/modules/generated/sklearn.linear_model.LogisticRegression.html\">?<span>Documentation for LogisticRegression</span></a><span class=\"sk-estimator-doc-link fitted\">i<span>Fitted</span></span></label><div class=\"sk-toggleable__content fitted\"><pre>LogisticRegression()</pre></div> </div></div></div></div>"
      ],
      "text/plain": [
       "LogisticRegression()"
      ]
     },
     "execution_count": 23,
     "metadata": {},
     "output_type": "execute_result"
    }
   ],
   "source": [
    "classifier = LogisticRegression()\n",
    "classifier.fit(X_train, y_train)"
   ]
  },
  {
   "cell_type": "code",
   "execution_count": 24,
   "metadata": {},
   "outputs": [],
   "source": [
    "y_pred = classifier.predict(X_test)"
   ]
  },
  {
   "cell_type": "code",
   "execution_count": 25,
   "metadata": {},
   "outputs": [],
   "source": [
    "def show_metrics(y_true, y_pred):\n",
    "  print(\"Acurácia: \", accuracy_score(y_true, y_pred))\n",
    "  print(\"AUROC:\", roc_auc_score(y_true, y_pred))\n",
    "  print(\"F1-Score:\", f1_score(y_true, y_pred, average='weighted'))\n",
    "  print(\"Matriz de confusão:\")\n",
    "  sns.heatmap(confusion_matrix(y_true, y_pred), annot=True)\n",
    "  plt.show()"
   ]
  },
  {
   "cell_type": "code",
   "execution_count": 26,
   "metadata": {},
   "outputs": [
    {
     "name": "stdout",
     "output_type": "stream",
     "text": [
      "Acurácia:  0.8939431194164412\n",
      "AUROC: 0.8799231472557887\n",
      "F1-Score: 0.8935018491665471\n",
      "Matriz de confusão:\n"
     ]
    },
    {
     "data": {
      "image/png": "[encoded data removed]",
      "text/plain": [
       "<Figure size 640x480 with 2 Axes>"
      ]
     },
     "metadata": {},
     "output_type": "display_data"
    }
   ],
   "source": [
    "show_metrics(y_test, y_pred)"
   ]
  },
  {
   "cell_type": "code",
   "execution_count": 27,
   "metadata": {},
   "outputs": [],
   "source": [
    "def is_positive_text(text: str) -> bool:\n",
    "  texto_vetorizado = vectorizer.transform([text])\n",
    "  pred = classifier.predict(texto_vetorizado)\n",
    "\n",
    "  if pred == 1:\n",
    "    return True\n",
    "\n",
    "  return False"
   ]
  },
  {
   "cell_type": "code",
   "execution_count": 28,
   "metadata": {},
   "outputs": [],
   "source": [
    "# Importamos a biblioteca python_doenv e os para que minhas credenciais não vazem no vídeo HAHAHA. =/\n",
    "import os\n",
    "from dotenv import load_dotenv\n",
    "\n",
    "load_dotenv()\n",
    "\n",
    "\n",
    "E_MAIL = os.environ.get('E_MAIL', None)\n",
    "PASSWORD = os.environ.get('PASSWORD', None)"
   ]
  },
  {
   "cell_type": "code",
   "execution_count": 29,
   "metadata": {},
   "outputs": [
    {
     "data": {
      "text/plain": [
       "ProfileViewDetailed(did='did:plc:ayebu67ottncbwnxzr6lcjb2', handle='rsiliunas.bsky.social', associated=ProfileAssociated(chat=ProfileAssociatedChat(allow_incoming='following', py_type='app.bsky.actor.defs#profileAssociatedChat'), feedgens=0, labeler=False, lists=0, starter_packs=0, py_type='app.bsky.actor.defs#profileAssociated'), avatar='https://cdn.bsky.app/img/avatar/plain/did:plc:ayebu67ottncbwnxzr6lcjb2/bafkreiaplkrxn4jeklybn6njhafx525adbyscpm7yi27ktztholzcyofcq@jpeg', banner=None, created_at='2024-07-17T04:05:47.275Z', description=None, display_name='Sili', followers_count=114, follows_count=11, indexed_at='2024-08-30T20:28:10.538Z', joined_via_starter_pack=None, labels=[], posts_count=24, viewer=ViewerState(blocked_by=False, blocking=None, blocking_by_list=None, followed_by=None, following=None, known_followers=KnownFollowers(count=1, followers=[ProfileViewBasic(did='did:plc:6ynu7mstp3gpioginx3ye5b2', handle='kittyvivi.bsky.social', associated=ProfileAssociated(chat=ProfileAssociatedChat(allow_incoming='following', py_type='app.bsky.actor.defs#profileAssociatedChat'), feedgens=None, labeler=None, lists=None, starter_packs=None, py_type='app.bsky.actor.defs#profileAssociated'), avatar='https://cdn.bsky.app/img/avatar/plain/did:plc:6ynu7mstp3gpioginx3ye5b2/bafkreiaoqbjf75uc3r6rjhi5zglivonnxeroh4jwnxf2cfwvebycyvs7xm@jpeg', created_at='2024-04-08T14:31:09.590Z', display_name='𐙚 vivi ꒱', labels=[], viewer=ViewerState(blocked_by=False, blocking=None, blocking_by_list=None, followed_by='at://did:plc:6ynu7mstp3gpioginx3ye5b2/app.bsky.graph.follow/3kxhaft6tcm2s', following='at://did:plc:ayebu67ottncbwnxzr6lcjb2/app.bsky.graph.follow/3kxhaef5ovd2s', known_followers=None, muted=False, muted_by_list=None, py_type='app.bsky.actor.defs#viewerState'), py_type='app.bsky.actor.defs#profileViewBasic')], py_type='app.bsky.actor.defs#knownFollowers'), muted=False, muted_by_list=None, py_type='app.bsky.actor.defs#viewerState'), py_type='app.bsky.actor.defs#profileViewDetailed')"
      ]
     },
     "execution_count": 29,
     "metadata": {},
     "output_type": "execute_result"
    }
   ],
   "source": [
    "# Instanciamos nosso cliente AT Proto e nos conectamos a nossa conta do BlueSky!\n",
    "client = Client(base_url='https://bsky.social')\n",
    "client.login(E_MAIL, PASSWORD)"
   ]
  },
  {
   "cell_type": "code",
   "execution_count": 110,
   "metadata": {},
   "outputs": [],
   "source": [
    "# Agora vamos buscar os últimos cem posts de um determinado usuário\n",
    "# bsky_user = 'bolsonarobr.bsky.social'\n",
    "# bsky_user = 'lula.com.br'\n",
    "# bsky_user = 'felipeneto.com.br'\n",
    "# bsky_user = 'nando-moura.bsky.social'\n",
    "# bsky_user = 'pablomarcal28.bsky.social'\n",
    "bsky_user = 'guilhermeboulos.bsky.social'\n"
   ]
  },
  {
   "cell_type": "code",
   "execution_count": 111,
   "metadata": {},
   "outputs": [],
   "source": [
    "# Obtém as últimas cem postagens do usuário\n",
    "response = client.get_author_feed(\n",
    "    actor=bsky_user, limit=100\n",
    ")"
   ]
  },
  {
   "cell_type": "code",
   "execution_count": 112,
   "metadata": {},
   "outputs": [
    {
     "data": {
      "text/plain": [
       "['#BoulosPrefeito50\\xa0•\\xa0#MartaVice50\\xa0• Coligação\\xa0#AmorporSaoPaulo\\xa0• Federação PSOL - Rede, Federação Brasil da Esperança (PT - PCdoB - PV), PDT • CNPJ 56.233.510-0001/63',\n",
       " 'Muito agradecido pelo seu apoio, Lilia Schwarcz. Vamos ouvir as demandas de toda a nossa cidade. É 50 para São Paulo melhorar.',\n",
       " '#BoulosPrefeito50 • #MartaVice50 • Coligação #AmorporSaoPaulo • Federação PSOL - Rede, Federação Brasil da Esperança (PT - PCdoB - PV), PDT • CNPJ 56.233.510-0001/63',\n",
       " 'Vocês acreditam?',\n",
       " 'Acabei de chegar ao estúdio do Vilela e daqui a pouco começa minha participação no Inteligência LTDA. \\n\\nPodcasts têm sido ótimas oportunidades para falar sobre nossos projetos para cuidar de São Paulo. Quem assistir não vai se arrepender. Bora?',\n",
       " 'Gente, dica boa pra quem está na missão Vira Voto nesses últimos dias:\\n\\nNo meu site, tem materiais para mandar nas redes, no Zap, etc. Tem vídeo pra combater fake news, propostas, e mais um monte de material pra ajudar no diálogo. Confira e compartilhe! Nós contamos muito com vocês.',\n",
       " 'Para combater a entrada do crime organizado na prefeitura, contra os esquemas de superfaturamento e favorecimento de amigos do prefeito, e para que o orçamento da cidade mais rica do Brasil seja aplicado de forma transparente e eficiente, vote 5️⃣0️⃣ #BoulosPrefeito50',\n",
       " '#dia45 Porque mudar São Paulo é urgente.\\n\\nBoulos é a única alternativa real de mudança para São Paulo nessas eleições.',\n",
       " '#BoulosPrefeito50 • #MartaVice50 • Coligação #AmorporSaoPaulo • Federação PSOL - Rede, Federação Brasil da Esperança (PT - PCdoB - PV), PDT • CNPJ 56.233.510-0001/63',\n",
       " 'É hora de apoiar! Com sua colaboração, poderemos aumentar a nossa equipe de comunicação para nos prepararmos para o próximo debate de maior visibilidade antes do primeiro turno. \\n\\nDê RT, ajude a chegarmos a mais pessoas em www.doeboulos.com.br!',\n",
       " 'Muito obrigado pelo apoio, Edna! Vamos cuidar do que nossa cidade tem de mais importante, que são as pessoas.',\n",
       " 'Obrigado pelo apoio e pela confiança em nosso projeto para São Paulo, Maria! 💜 5️⃣0️⃣',\n",
       " '😂😂😂',\n",
       " 'Muito obrigado pelo apoio! 💜 Vamos em frente.',\n",
       " '5️⃣0️⃣ pra mudar São Paulo!',\n",
       " 'Valeu, companheiro! É 5️⃣0️⃣ neles!',\n",
       " 'Pra cima, André! 👊 5️⃣0️⃣',\n",
       " '👊 5️⃣0️⃣',\n",
       " 'Vamos com tudo, Edi! É hora de mudar São Paulo 👊 5️⃣0️⃣',\n",
       " 'É absurdo atrás de absurdo! Uma pessoa com esse tipo de pensamento não tem a menor condição de governar São Paulo.',\n",
       " 'Vamos com tudo, Eduardo! A hora da mudança chegou. É  5️⃣0️⃣ e confirma.',\n",
       " 'Te espero lá, Andrea! Vamo que vamo! 💜 5️⃣0️⃣',\n",
       " 'É isso, Luka! Nós temos uma oportunidade real de mudar as coisas em São Paulo. 💜 5️⃣0️⃣',\n",
       " 'Vamos juntos, Bia! É hora da verdadeira mudança. 💜 5️⃣0️⃣',\n",
       " 'Uma pessoa com esse tipo de pensamento não pode governar São Paulo! Não dá!',\n",
       " '👊 5️⃣0️⃣',\n",
       " 'Pra cima, Carlos! Agora é 5️⃣0️⃣',\n",
       " '👊 5️⃣0️⃣',\n",
       " 'Um abração para a família toda, Siller! Muito obrigado pela confiança. Vamos juntos transformar essa cidade. 5️⃣0️⃣',\n",
       " '5️⃣0️⃣ e confirma! É hora de mudar São Paulo.',\n",
       " 'Valeu, Alice! Um abração para a família toda. Domingo é 5️⃣0️⃣',\n",
       " 'Vamoo, Vini! 5️⃣0️⃣ e confirma!',\n",
       " 'Valeu, Bodão! Agora é 5️⃣0️⃣',\n",
       " 'Obrigado pelo apoio, Simon! A hora de mudar São Paulo chegou. 5️⃣0️⃣',\n",
       " 'Venceremos, Marines! Vamos juntos no 5️⃣0️⃣',\n",
       " '#dia44 Por um choque de humanidade em São Paulo.\\n\\nCom Boulos, a cidade mais rica do Brasil não vai deixar mais ninguém com fome ou sem-teto. Por uma cidade humana que respeite todos os cidadãos, vote 5⃣0⃣ #BoulosPrefeito50',\n",
       " '👊 5️⃣0️⃣',\n",
       " 'São Paulo não merece nenhuma das duas faces do bolsonarismo.',\n",
       " '😂😂',\n",
       " 'Zona sul deu o recado!',\n",
       " '💜 5️⃣0️⃣',\n",
       " 'Bora, Junin! 5️⃣0️⃣ neles!',\n",
       " 'E não responde as perguntas porque são muitos absurdos sem explicação. Mas domingo o povo de São Paulo dará a resposta.',\n",
       " ' Domingo o dia da mudança! Vamos juntos, Carol! Agora é 5️⃣0️⃣',\n",
       " 'Bora, Sandra! Domingo é 5️⃣0️⃣ neles!',\n",
       " 'Vamos juntos por São Paulo, Daisy! Agora é 5️⃣0️⃣',\n",
       " 'São Paulo não merece nenhuma das faces do bolsonarismo. Domingo é 5️⃣0️⃣ neles!',\n",
       " 'Muito obrigado por essa força e boa recuperação, Carlão. Tamo junto!',\n",
       " 'A resposta virá no dia 6 de outubro! Venceremos! 5️⃣0️⃣',\n",
       " 'Obrigado pela confiança, Claudia! Estou comprometido a revogar a concessão dos cemitérios. Realmente não dá para continuar com esse absurdo.',\n",
       " 'São Paulo merece um prefeito de verdade. Vamos vencer!',\n",
       " 'Valeu demais, Lê! Manda um abraço pra turma da PUC.💜 5️⃣0️⃣',\n",
       " 'VAMOOOOO 5️⃣0️⃣',\n",
       " 'A mudança que São Paulo precisa está chegando, Soraia! 5️⃣0️⃣',\n",
       " '😂😂 🎂',\n",
       " '5️⃣0️⃣ neles!',\n",
       " 'Vamos, Cortez! Chegou a hora de mudar São Paulo. 5️⃣0️⃣ 🚀',\n",
       " 'É hora de São Paulo ser cuidada como merece. Agora é 5️⃣0️⃣',\n",
       " 'Pra cima, Maurício! Força total nesses últimos dias. Agora é 5️⃣0️⃣',\n",
       " 'Fabio, você pode me ajudar mesmo estando em outra cidade, viu? Compartilhe os conteúdos da campanha e converse com as pessoas que você conhece e que moram aqui. Bora virar voto? 5️⃣0️⃣',\n",
       " '5️⃣0️⃣ 🚀',\n",
       " 'Booa, Rogerio! Vai ser histórico!',\n",
       " 'Vamos ganhar, Jeane! E eu conto com o seu apoio pra isso, viu?! Tamo junto!',\n",
       " 'Bora com a gente, Vitor! Vai ser um momento muito especial desta campanha.',\n",
       " 'Vai ser às 14h na Av. paulista, Laide. Bora?',\n",
       " 'Presentão, ein?! Vamos com tudo, Ana! 🎂5️⃣0️⃣',\n",
       " 'Muito obrigado pela confiança no nosso projeto. Vamos vencer e cuidar da nossa cidade. 5️⃣0️⃣',\n",
       " 'Vamos com tudo, minha amiga! 5️⃣0️⃣ neles!',\n",
       " '#BoulosPrefeito50 • #MartaVice50 • Coligação #AmorporSaoPaulo • Federação PSOL - Rede, Federação Brasil da Esperança (PT - PCdoB - PV), PDT • CNPJ 56.233.510-0001/63',\n",
       " 'É no 50 no dia 6 de outubro!',\n",
       " '#BoulosPrefeito50 • #MartaVice50 • Coligação #AmorporSaoPaulo • Federação PSOL - Rede, Federação Brasil da Esperança (PT - PCdoB - PV), PDT • CNPJ 56.233.510-0001/63',\n",
       " 'Tá sabendo da última? Sábado tem caminhada com o presidente @lula.com.br na avenida Paulista. Conto com você lá!\\u2063',\n",
       " 'A pesquisa Atlas divulgada hoje reforça o que estamos sentindo todos os dias nas ruas. Estamos subindo e vamos crescer ainda mais! É a última semana! Hora da arrancada decisiva. Todo mundo nas redes, nas ruas, no trabalho, na igreja – em todo lugar defendendo\\xa0o\\xa0voto\\xa050.',\n",
       " 'Na liderança e crescendo! 🚀',\n",
       " '#BoulosPrefeito50 • #MartaVice50 • Coligação #AmorporSaoPaulo • Federação PSOL - Rede, Federação Brasil da Esperança (PT - PCdoB - PV), PDT • CNPJ 56.233.510-0001/63',\n",
       " 'Respeite as mulheres, Marçal! #BoulosPrefeito50',\n",
       " 'De um lado, um aventureiro que nem da cidade é. Do outro, alguém que teve a chance e não fez nada; foram 3 anos e meio de uma gestão muito ruim. Por isso, a mudança é comigo! No próximo domingo, vote 50! #BoulosPrefeito50  #DebateUOLFolha',\n",
       " 'Durante toda essa campanha, eu fui atacado de maneira baixa, desleal e com mentiras, porque existe um medo deles em relação à mudança que nós representamos para a cidade de São Paulo. #BoulosPrefeito50  #DebateUOLFolha',\n",
       " 'Faltam 6 dias para definir os próximos 4 anos para São Paulo, com impacto para todo o país. Precisamos evitar o risco de ter dois candidatos do atraso bolsonarista. #BoulosPrefeito50  #DebateUOLFolha',\n",
       " 'O desespero do Marçal é tão grande na reta final que ele tenta criar confusões a respeito do nosso número. O nosso número é 50, e o desespero do Marçal não vai ganhar! #BoulosPrefeito50  #DebateUOLFolha',\n",
       " 'Como uma pessoa que não responde perguntas e não se posiciona pode continuar sendo prefeito de São Paulo? Não dá! #BoulosPrefeito50  #DebateUOLFolha',\n",
       " '#BoulosPrefeito50 • #MartaVice50 • Coligação #AmorporSaoPaulo • Federação PSOL - Rede, Federação Brasil da Esperança (PT - PCdoB - PV), PDT • CNPJ 56.233.510-0001/63',\n",
       " 'Se o cachorro quente for igual às compras da prefeitura... #BoulosPrefeito50',\n",
       " 'Ricardo Nunes não respondeu se Bolsonaro vai indicar pessoas para a sua gestão. Qual é a conclusão que podemos chegar? #BoulosPrefeito50  #DebateUOLFolha',\n",
       " 'No tempo em que ele era coach, Pablo Marçal dizia que o pobre era pobre porque merecia. Agora, ele vai às periferias dizer que ama os pobres e é recebido com cadeira no Grajaú.  #BoulosPrefeito50  #DebateUOLFolha',\n",
       " 'Pablo Marçal falando de moradia é impressionante. Lá em Angola, ele prometeu fazer 300 casas, arrecadou dinheiro do jeito que costuma fazer e fez 30 casas, deixando as pessoas na mão. Esse é o Marçal. #BoulosPrefeito50  #DebateUOLFolha',\n",
       " 'Nós temos o desafio de não deixar São Paulo cair nas mãos de uma turma que junta atraso, ódio, coisas suspeitas e não explicadas, como é o caso de Ricardo Nunes, e um projeto de raiva, como é o do Pablo Marçal. #BoulosPrefeito50  #DebateUOLFolha',\n",
       " 'Eu me preparei para ser prefeito de São Paulo, estudei cada ponto desta cidade, chamei a Marta para ser minha vice e fui conhecer experiências internacionais. Infelizmente, alguns aqui rebaixam muito o nível do debate. #BoulosPrefeito50  #DebateUOLFolha',\n",
       " 'Não dá para tapar o sol com a peneira. Pablo Marçal é um provocador, mas Ricardo Nunes precisa responder às perguntas sobre as investigações que existem contra ele. #BoulosPrefeito50  #DebateUOLFolha',\n",
       " 'São Paulo tem hoje o maior orçamento da história. Com tanto dinheiro em caixa, alguém sabe dizer qual legado Ricardo Nunes deixou como prefeito? #BoulosPrefeito50  #DebateUOLFolha',\n",
       " '#BoulosPrefeito50 • #MartaVice50 • Coligação #AmorporSaoPaulo • Federação PSOL - Rede, Federação Brasil da Esperança (PT - PCdoB - PV), PDT • CNPJ 56.233.510-0001/63',\n",
       " 'Bolsonaro tem dois candidatos nesta eleição: Ricardo Nunes e Pablo Marçal. #BoulosPrefeito50',\n",
       " 'O Marçal fala muito sobre consórcio comunista. Mas o que vemos aqui é um consórcio contra o Boulos. Estão se juntando porque sabem que a nossa candidatura representa a mudança real para São Paulo. #BoulosPrefeito50  #DebateUOLFolha',\n",
       " 'Eu acredito que é plenamente possível ter responsabilidade fiscal e social. É isso que eu defendo e é isso que vou fazer como prefeito. #BoulosPrefeito50  #DebateUOLFolha',\n",
       " 'Pouco se tem falado sobre a proximidade de Marçal com Dória. Dos três possíveis secretários que ele anunciou, dois foram secretários de Dória. Ele quer ser o novo Dória? #BoulosPrefeito50  #DebateUOLFolha',\n",
       " 'A questão das pessoas com deficiência, para mim, é um tema muito caro. Vou colocar auxiliares de vida escolar em todas as escolas e criar centros de referência para pessoas com TEA em todas as regiões da cidade. #BoulosPrefeito50  #DebateUOLFolha',\n",
       " 'É o prefeito, o rei do camarote. Enquanto 2 milhões de pessoas estavam sem luz, ele estava no camarote assistindo à Fórmula 1. #BoulosPrefeito50  #DebateUOLFolha',\n",
       " 'Ricardo Nunes ficou ausente por 3 anos e favoreceu amigos e compadres. Isso precisa ser dito com transparência! #BoulosPrefeito50  #DebateUOLFolha',\n",
       " 'Vamos estabelecer a verdade: Ricardo Nunes está sendo investigado pelo Ministério Público por causa das obras emergenciais sem licitação, entre elas, a obra para a qual ele destinou R$ 50 milhões ao compadre. #BoulosPrefeito50  #DebateUOLFolha',\n",
       " 'Lamento essa fala do Pablo Marçal insinuando que quem vota em mulheres teria menos inteligência. Triste ouvir isso de alguém que quer governar a maior cidade do Brasil. #BoulosPrefeito50  #DebateUOLFolha']"
      ]
     },
     "execution_count": 112,
     "metadata": {},
     "output_type": "execute_result"
    }
   ],
   "source": [
    "all_posts = []\n",
    "\n",
    "for _ in response['feed']:\n",
    "    author = _['post']['author']['handle']\n",
    "\n",
    "    if author == bsky_user:\n",
    "        post = _['post']['record']['text']\n",
    "\n",
    "        if (post != None) and (len(post) != 0):\n",
    "            all_posts.append(post)\n",
    "\n",
    "all_posts"
   ]
  },
  {
   "cell_type": "code",
   "execution_count": 113,
   "metadata": {},
   "outputs": [
    {
     "data": {
      "text/plain": [
       "['boulosprefeito martavice coligação amorporsaopaulo federação psol rede federação brasil esperança pt pcdob pv pdt cnpj',\n",
       " 'agradecido apoio lilia schwarcz vamos ouvir demandas toda cidade paulo melhorar',\n",
       " 'boulosprefeito martavice coligação amorporsaopaulo federação psol rede federação brasil esperança pt pcdob pv pdt cnpj',\n",
       " 'acreditam',\n",
       " 'acabei chegar estúdio vilela daqui pouco começa participação inteligência ltda podcasts têm sido ótimas oportunidades falar sobre projetos cuidar paulo assistir não vai arrepender bora',\n",
       " 'gente dica boa pra missão vira voto nesses últimos dias site materiais mandar redes zap etc vídeo pra combater fake news propostas monte material pra ajudar diálogo confira compartilhe contamos',\n",
       " 'combater entrada crime organizado prefeitura contra esquemas superfaturamento favorecimento amigos prefeito orçamento cidade rica brasil aplicado forma transparente eficiente vote boulosprefeito',\n",
       " 'dia porque mudar paulo urgente boulos única alternativa real mudança paulo nessas eleições',\n",
       " 'boulosprefeito martavice coligação amorporsaopaulo federação psol rede federação brasil esperança pt pcdob pv pdt cnpj',\n",
       " 'hora apoiar colaboração poderemos aumentar equipe comunicação prepararmos próximo debate maior visibilidade antes primeiro turno dê rt ajude chegarmos pessoas www doeboulos br',\n",
       " 'obrigado apoio edna vamos cuidar cidade importante pessoas',\n",
       " 'obrigado apoio confiança projeto paulo maria',\n",
       " '',\n",
       " 'obrigado apoio vamos frente',\n",
       " 'pra mudar paulo',\n",
       " 'valeu companheiro neles',\n",
       " 'pra cima andré',\n",
       " '',\n",
       " 'vamos tudo edi hora mudar paulo',\n",
       " 'absurdo atrás absurdo pessoa tipo pensamento não menor condição governar paulo',\n",
       " 'vamos tudo eduardo hora mudança chegou confirma',\n",
       " 'espero lá andrea vamo vamo',\n",
       " 'luka oportunidade real mudar coisas paulo',\n",
       " 'vamos juntos bia hora verdadeira mudança',\n",
       " 'pessoa tipo pensamento não pode governar paulo não dá',\n",
       " '',\n",
       " 'pra cima carlos agora',\n",
       " '',\n",
       " 'abração família toda siller obrigado confiança vamos juntos transformar cidade',\n",
       " 'confirma hora mudar paulo',\n",
       " 'valeu alice abração família toda domingo',\n",
       " 'vamoo vini confirma',\n",
       " 'valeu bodão agora',\n",
       " 'obrigado apoio simon hora mudar paulo chegou',\n",
       " 'venceremos marines vamos juntos',\n",
       " 'dia choque humanidade paulo boulos cidade rica brasil não vai deixar ninguém fome teto cidade humana respeite todos cidadãos vote boulosprefeito',\n",
       " '',\n",
       " 'paulo não merece nenhuma duas faces bolsonarismo',\n",
       " '',\n",
       " 'zona sul deu recado',\n",
       " '',\n",
       " 'bora junin neles',\n",
       " 'não responde perguntas porque muitos absurdos explicação domingo povo paulo dará resposta',\n",
       " 'domingo dia mudança vamos juntos carol agora',\n",
       " 'bora sandra domingo neles',\n",
       " 'vamos juntos paulo daisy agora',\n",
       " 'paulo não merece nenhuma faces bolsonarismo domingo neles',\n",
       " 'obrigado força boa recuperação carlão tamo junto',\n",
       " 'resposta virá dia outubro venceremos',\n",
       " 'obrigado confiança claudia comprometido revogar concessão cemitérios realmente não dá continuar absurdo',\n",
       " 'paulo merece prefeito verdade vamos vencer',\n",
       " 'valeu demais lê manda abraço pra turma puc',\n",
       " 'vamooooo',\n",
       " 'mudança paulo precisa chegando soraia',\n",
       " '',\n",
       " 'neles',\n",
       " 'vamos cortez chegou hora mudar paulo',\n",
       " 'hora paulo cuidada merece agora',\n",
       " 'pra cima maurício força total nesses últimos dias agora',\n",
       " 'fabio pode ajudar estando outra cidade viu compartilhe conteúdos campanha converse pessoas conhece moram aqui bora virar voto',\n",
       " '',\n",
       " 'booa rogerio vai histórico',\n",
       " 'vamos ganhar jeane conto apoio pra viu tamo junto',\n",
       " 'bora gente vitor vai momento especial desta campanha',\n",
       " 'vai h av paulista laide bora',\n",
       " 'presentão ein vamos tudo ana',\n",
       " 'obrigado confiança projeto vamos vencer cuidar cidade',\n",
       " 'vamos tudo amiga neles',\n",
       " 'boulosprefeito martavice coligação amorporsaopaulo federação psol rede federação brasil esperança pt pcdob pv pdt cnpj',\n",
       " 'dia outubro',\n",
       " 'boulosprefeito martavice coligação amorporsaopaulo federação psol rede federação brasil esperança pt pcdob pv pdt cnpj',\n",
       " 'tá sabendo última sábado caminhada presidente lula br avenida paulista conto lá',\n",
       " 'pesquisa atlas divulgada hoje reforça sentindo todos dias ruas subindo vamos crescer ainda última semana hora arrancada decisiva todo mundo redes ruas trabalho igreja todo lugar defendendo voto',\n",
       " 'liderança crescendo',\n",
       " 'boulosprefeito martavice coligação amorporsaopaulo federação psol rede federação brasil esperança pt pcdob pv pdt cnpj',\n",
       " 'respeite mulheres marçal boulosprefeito',\n",
       " 'lado aventureiro nem cidade outro alguém chance não fez nada anos meio gestão ruim mudança comigo próximo domingo vote boulosprefeito debateuolfolha',\n",
       " 'durante toda campanha atacado maneira baixa desleal mentiras porque existe medo relação mudança representamos cidade paulo boulosprefeito debateuolfolha',\n",
       " 'faltam dias definir próximos anos paulo impacto todo país precisamos evitar risco ter dois candidatos atraso bolsonarista boulosprefeito debateuolfolha',\n",
       " 'desespero marçal tão grande reta final tenta criar confusões respeito número número desespero marçal não vai ganhar boulosprefeito debateuolfolha',\n",
       " 'pessoa não responde perguntas não posiciona pode continuar sendo prefeito paulo não dá boulosprefeito debateuolfolha',\n",
       " 'boulosprefeito martavice coligação amorporsaopaulo federação psol rede federação brasil esperança pt pcdob pv pdt cnpj',\n",
       " 'cachorro quente igual compras prefeitura boulosprefeito',\n",
       " 'ricardo nunes não respondeu bolsonaro vai indicar pessoas gestão conclusão podemos chegar boulosprefeito debateuolfolha',\n",
       " 'tempo coach pablo marçal dizia pobre pobre porque merecia agora vai periferias dizer ama pobres recebido cadeira grajaú boulosprefeito debateuolfolha',\n",
       " 'pablo marçal falando moradia impressionante lá angola prometeu fazer casas arrecadou dinheiro jeito costuma fazer fez casas deixando pessoas mão marçal boulosprefeito debateuolfolha',\n",
       " 'desafio não deixar paulo cair mãos turma junta atraso ódio coisas suspeitas não explicadas caso ricardo nunes projeto raiva pablo marçal boulosprefeito debateuolfolha',\n",
       " 'preparei prefeito paulo estudei cada ponto desta cidade chamei marta vice conhecer experiências internacionais infelizmente alguns aqui rebaixam nível debate boulosprefeito debateuolfolha',\n",
       " 'não dá tapar sol peneira pablo marçal provocador ricardo nunes precisa responder perguntas sobre investigações existem contra boulosprefeito debateuolfolha',\n",
       " 'paulo hoje maior orçamento história tanto dinheiro caixa alguém sabe dizer legado ricardo nunes deixou prefeito boulosprefeito debateuolfolha',\n",
       " 'boulosprefeito martavice coligação amorporsaopaulo federação psol rede federação brasil esperança pt pcdob pv pdt cnpj',\n",
       " 'bolsonaro dois candidatos nesta eleição ricardo nunes pablo marçal boulosprefeito',\n",
       " 'marçal fala sobre consórcio comunista vemos aqui consórcio contra boulos juntando porque sabem candidatura representa mudança real paulo boulosprefeito debateuolfolha',\n",
       " 'acredito plenamente possível ter responsabilidade fiscal social defendo vou fazer prefeito boulosprefeito debateuolfolha',\n",
       " 'pouco falado sobre proximidade marçal dória três possíveis secretários anunciou dois secretários dória quer novo dória boulosprefeito debateuolfolha',\n",
       " 'questão pessoas deficiência mim tema caro vou colocar auxiliares vida escolar todas escolas criar centros referência pessoas tea todas regiões cidade boulosprefeito debateuolfolha',\n",
       " 'prefeito rei camarote enquanto milhões pessoas luz camarote assistindo fórmula boulosprefeito debateuolfolha',\n",
       " 'ricardo nunes ficou ausente anos favoreceu amigos compadres precisa dito transparência boulosprefeito debateuolfolha',\n",
       " 'vamos estabelecer verdade ricardo nunes sendo investigado ministério público causa obras emergenciais licitação obra destinou r milhões compadre boulosprefeito debateuolfolha',\n",
       " 'lamento fala pablo marçal insinuando vota mulheres menos inteligência triste ouvir alguém quer governar maior cidade brasil boulosprefeito debateuolfolha']"
      ]
     },
     "execution_count": 113,
     "metadata": {},
     "output_type": "execute_result"
    }
   ],
   "source": [
    "cleaned_posts_text = [clean_text(str(post).lower()) for post in all_posts]\n",
    "cleaned_posts_text"
   ]
  },
  {
   "cell_type": "code",
   "execution_count": 114,
   "metadata": {},
   "outputs": [],
   "source": [
    "results = [is_positive_text(post) for post in cleaned_posts_text if post != '']\n",
    "\n",
    "negative = 0\n",
    "positive = 0\n",
    "\n",
    "positive_phrase = []\n",
    "negative_phrase = []\n",
    "\n",
    "for phrase, result in zip(all_posts, results):\n",
    "    if result:\n",
    "        positive += 1\n",
    "        positive_phrase.append(phrase)\n",
    "    else:\n",
    "        negative += 1\n",
    "        negative_phrase.append(phrase)"
   ]
  },
  {
   "cell_type": "code",
   "execution_count": 115,
   "metadata": {},
   "outputs": [
    {
     "name": "stdout",
     "output_type": "stream",
     "text": [
      "O usuário guilhermeboulos.bsky.social foi análisado com sucesso!\n",
      "O perfil contém 66 postagens consideradas positivas e 25 postagens consideradas negativas. Um total de 91 postagens foi levado em consideração.\n",
      "\n",
      "O perfil é classificado como um usuário POSITIVO! Parabéns!\n",
      "SALDO: 😊 - 66 | 🤬 - 25.\n"
     ]
    }
   ],
   "source": [
    "print(f'O usuário {bsky_user} foi análisado com sucesso!\\nO perfil contém {positive} postagens consideradas positivas e {negative} postagens consideradas negativas. Um total de {positive + negative} postagens foi levado em consideração.\\n')\n",
    "\n",
    "if positive > negative:\n",
    "    print(f'O perfil é classificado como um usuário POSITIVO! Parabéns!\\nSALDO: 😊 - {positive} | 🤬 - {negative}.')\n",
    "elif negative > positive:\n",
    "    print(f'O perfil é classificado como um usuário NEGATIVO. Monitore suas postagens para não ser visto como alguém negativo.\\nSALDO: 😊 - {positive} | 🤬 - {negative}.')\n",
    "else:\n",
    "    print(f'O perfil é classificado como um usuário NEUTRO. Estar encima do muro nem sempre é legal. \\nSALDO: 😊 - {positive} | 🤬 - {negative}.')"
   ]
  },
  {
   "cell_type": "code",
   "execution_count": 116,
   "metadata": {},
   "outputs": [
    {
     "name": "stdout",
     "output_type": "stream",
     "text": [
      "Comentários Positivos:\n",
      "['#BoulosPrefeito50\\xa0•\\xa0#MartaVice50\\xa0• Coligação\\xa0#AmorporSaoPaulo\\xa0'\n",
      " '• Federação PSOL - Rede, Federação Brasil da Esperança (PT - PCdoB - PV), '\n",
      " 'PDT • CNPJ 56.233.510-0001/63',\n",
      " '#BoulosPrefeito50 • #MartaVice50 • Coligação #AmorporSaoPaulo • Federação '\n",
      " 'PSOL - Rede, Federação Brasil da Esperança (PT - PCdoB - PV), PDT • CNPJ '\n",
      " '56.233.510-0001/63',\n",
      " 'Vocês acreditam?',\n",
      " 'Gente, dica boa pra quem está na missão Vira Voto nesses últimos dias:\\n'\n",
      " '\\n'\n",
      " 'No meu site, tem materiais para mandar nas redes, no Zap, etc. Tem vídeo pra '\n",
      " 'combater fake news, propostas, e mais um monte de material pra ajudar no '\n",
      " 'diálogo. Confira e compartilhe! Nós contamos muito com vocês.',\n",
      " 'Para combater a entrada do crime organizado na prefeitura, contra os '\n",
      " 'esquemas de superfaturamento e favorecimento de amigos do prefeito, e para '\n",
      " 'que o orçamento da cidade mais rica do Brasil seja aplicado de forma '\n",
      " 'transparente e eficiente, vote 5️⃣0️⃣ #BoulosPrefeito50']\n",
      "\n",
      "Comentários Negativos:\n",
      "['Muito agradecido pelo seu apoio, Lilia Schwarcz. Vamos ouvir as demandas de '\n",
      " 'toda a nossa cidade. É 50 para São Paulo melhorar.',\n",
      " 'Acabei de chegar ao estúdio do Vilela e daqui a pouco começa minha '\n",
      " 'participação no Inteligência LTDA. \\n'\n",
      " '\\n'\n",
      " 'Podcasts têm sido ótimas oportunidades para falar sobre nossos projetos para '\n",
      " 'cuidar de São Paulo. Quem assistir não vai se arrepender. Bora?',\n",
      " '👊 5️⃣0️⃣',\n",
      " 'É isso, Luka! Nós temos uma oportunidade real de mudar as coisas em São '\n",
      " 'Paulo. 💜 5️⃣0️⃣',\n",
      " '👊 5️⃣0️⃣']\n"
     ]
    }
   ],
   "source": [
    "from pprint import pprint\n",
    "\n",
    "# Mostra os comentários positivos\n",
    "print('Comentários Positivos:')\n",
    "pprint(positive_phrase[:5])\n",
    "\n",
    "\n",
    "# Mostra os comentários negativos\n",
    "print('\\nComentários Negativos:')\n",
    "pprint(negative_phrase[:5])"
   ]
  },
  {
   "cell_type": "code",
   "execution_count": 117,
   "metadata": {},
   "outputs": [],
   "source": [
    "# Testes práticos com dez frases negativas e dez frases positivas\n",
    "\n",
    "test_positive_phrases = [\n",
    "    'Maravilhoso! A melhor compra que já fiz.',\n",
    "    'Parabéns pelo excelente atendimento!',\n",
    "    'Fico muito feliz com o resultado!',\n",
    "    'Ótimo atendimento!',\n",
    "    'Excelente produto!',\n",
    "    'Muito bom!',\n",
    "    'Aproveitei o meu dia!',\n",
    "    'Gostei muito do produto!',\n",
    "    'Muito bem!',\n",
    "    'Fiquei satisfeito com o resultado!'\n",
    "]\n",
    "\n",
    "test_negative_phrases = [\n",
    "    'Péssimo atendimento! O produto não funcionou como o esperado.',\n",
    "    'Atendimento ruim! Não recomendo.',\n",
    "    'Não gostei muito do produto.',\n",
    "    'Péssimo produto!',\n",
    "    'Estou desgostado com o atendimento!',\n",
    "    'Não recomendo este produto.',\n",
    "    'Estou com dificuldades para usar o produto.',\n",
    "    'Não gostei do tempo de entrega.',\n",
    "    'Não gostei do produto.',\n",
    "    'O atendimento foi muito demorado.'\n",
    "]\n",
    "\n",
    "test_results = [{\"frase\": phrase, \"result\": is_positive_text(clean_text(phrase).lower())} for phrase in test_positive_phrases + test_negative_phrases]"
   ]
  },
  {
   "cell_type": "code",
   "execution_count": 118,
   "metadata": {},
   "outputs": [
    {
     "name": "stdout",
     "output_type": "stream",
     "text": [
      "[{'frase': 'Maravilhoso! A melhor compra que já fiz.', 'result': True},\n",
      " {'frase': 'Parabéns pelo excelente atendimento!', 'result': True},\n",
      " {'frase': 'Fico muito feliz com o resultado!', 'result': True},\n",
      " {'frase': 'Ótimo atendimento!', 'result': True},\n",
      " {'frase': 'Excelente produto!', 'result': True},\n",
      " {'frase': 'Muito bom!', 'result': True},\n",
      " {'frase': 'Aproveitei o meu dia!', 'result': True},\n",
      " {'frase': 'Gostei muito do produto!', 'result': True},\n",
      " {'frase': 'Muito bem!', 'result': True},\n",
      " {'frase': 'Fiquei satisfeito com o resultado!', 'result': True},\n",
      " {'frase': 'Estou desgostado com o atendimento!', 'result': True},\n",
      " {'frase': 'Estou com dificuldades para usar o produto.', 'result': True}]\n",
      "Um total de: 12 registros.\n"
     ]
    }
   ],
   "source": [
    "# Exibe os resultados de frases de teste positivas\n",
    "positive_list = list(filter(lambda x: x.get('result') == True, test_results))\n",
    "pprint(positive_list)\n",
    "print(f'Um total de: {len(positive_list)} registros.')"
   ]
  },
  {
   "cell_type": "code",
   "execution_count": 119,
   "metadata": {},
   "outputs": [
    {
     "name": "stdout",
     "output_type": "stream",
     "text": [
      "[{'frase': 'Péssimo atendimento! O produto não funcionou como o esperado.',\n",
      "  'result': False},\n",
      " {'frase': 'Atendimento ruim! Não recomendo.', 'result': False},\n",
      " {'frase': 'Não gostei muito do produto.', 'result': False},\n",
      " {'frase': 'Péssimo produto!', 'result': False},\n",
      " {'frase': 'Não recomendo este produto.', 'result': False},\n",
      " {'frase': 'Não gostei do tempo de entrega.', 'result': False},\n",
      " {'frase': 'Não gostei do produto.', 'result': False},\n",
      " {'frase': 'O atendimento foi muito demorado.', 'result': False}]\n",
      "Um total de: 8 registros.\n"
     ]
    }
   ],
   "source": [
    "# Exibe os resultados de frases de teste negativos\n",
    "negative_list = list(filter(lambda x: x.get('result') == False, test_results))\n",
    "pprint(negative_list)\n",
    "print(f'Um total de: {len(negative_list)} registros.')"
   ]
  },
  {
   "cell_type": "markdown",
   "metadata": {},
   "source": [
    "# E se fossemos trabalhar com Pipelines?\n",
    "\n",
    "Por que Utilizar Pipelines com Scikit-learn?\n",
    "\n",
    "O uso de *pipelines* no *scikit-learn* oferece diversos benefícios ao desenvolver modelos de aprendizado de máquina. A seguir, estão as principais razões para utilizar *pipelines* em seus projetos:\n",
    "\n",
    "1. **Organização e Clareza do Código**:\n",
    "    * **Modularidade**: Pipelines permitem encapsular todo o fluxo de processamento de dados e modelagem em um único objeto sequencial, tornando o código mais limpo e organizado.\n",
    "    * **Manutenção Facilitada**: Com etapas bem definidas, é mais fácil modificar ou ajustar partes específicas do processo sem afetar o restante.\n",
    "\n",
    "2. **Prevenção de Vazamento de Dados (Data Leakage)**:\n",
    "    * **Transformações Consistentes**: Ao aplicar transformações (como normalização ou codificação) dentro de um pipeline, garante-se que essas operações sejam aprendidas apenas nos dados de treinamento e aplicadas de forma consistente nos dados de validação e teste.\n",
    "    * **Avaliação Confiável**: Isso evita que informações dos dados de teste \"vazem\" para o modelo durante o treinamento, proporcionando uma avaliação mais realista do desempenho.\n",
    "\n",
    "3. **Facilita a Validação Cruzada e Otimização de Hiperparâmetros**:\n",
    "    * **Integração com GridSearchCV e RandomizedSearchCV**: Pipelines podem ser usados diretamente com essas ferramentas, permitindo a busca de hiperparâmetros em diferentes etapas (pré-processamento e modelagem) simultaneamente.\n",
    "    * **Automação do Processo**: Simplifica o processo de encontrar a combinação ideal de parâmetros, economizando tempo e esforço.\n",
    "\n",
    "4. **Reprodutibilidade e Compartilhamento de Modelos**:\n",
    "    * **Fluxo de Trabalho Unificado**: Captura todo o processo de preparação e treinamento em um único objeto, facilitando a reprodução dos resultados em diferentes ambientes ou por outros membros da equipe.\n",
    "    * **Serialização**: Pipelines podem ser facilmente salvos (usando pickle, por exemplo) e carregados posteriormente, permitindo o compartilhamento eficiente de modelos treinados.\n",
    "\n",
    "5. **Redução de Erros Humanos**:\n",
    "    * **Processamento Automatizado**: Ao encadear as etapas, reduz-se o risco de esquecer de aplicar uma transformação nos dados de teste ou de cometer inconsistências entre conjuntos de dados.\n",
    "    * **Interface Consistente**: Todos os estimadores e transformadores no scikit-learn seguem a mesma interface (fit, transform, predict), o que facilita a integração das etapas.\n",
    "\n",
    "6. **Flexibilidade e Customização**:\n",
    "    * **Criação de Pipelines Personalizados**: É possível combinar diferentes tipos de transformações e modelos de acordo com as necessidades específicas do projeto.\n",
    "    * **Compatibilidade com Transformadores Customizados**: Você pode criar seus próprios transformadores (herdando de BaseEstimator e TransformerMixin) e usá-los dentro do pipeline."
   ]
  },
  {
   "cell_type": "code",
   "execution_count": 120,
   "metadata": {},
   "outputs": [],
   "source": [
    "pipeline_lr = Pipeline([\n",
    "    ('vectorizer', CountVectorizer(binary=True, max_features=5000)),  # Transformando o texto em vetores numéricos com Bag of Words (CountVectorizer)\n",
    "    ('classifier', LogisticRegression())  # Utilizando a Regressão Logística como classificador\n",
    "])\n",
    "\n",
    "pipeline_nb = Pipeline([\n",
    "    ('tfidf', TfidfVectorizer()),  # Transformando o texto em vetores TF-IDF\n",
    "    ('classifier', MultinomialNB())  # Utilizando o Naive Bayes Multinomial como classificador\n",
    "])"
   ]
  },
  {
   "cell_type": "code",
   "execution_count": 121,
   "metadata": {},
   "outputs": [],
   "source": [
    "# Por garantia, funcionalidade e semântica nós passamos novamente as features e o target e dividimos os dados em treino e teste para passar ao\n",
    "# pipeline de ML.\n",
    "\n",
    "X = df['review']\n",
    "y = df['label']\n",
    "X_train, X_test, y_train, y_test = train_test_split(X, y, test_size=0.2, random_state=42)"
   ]
  },
  {
   "cell_type": "code",
   "execution_count": 122,
   "metadata": {},
   "outputs": [],
   "source": [
    "# Treinando o modelo para o pipeline de LogisticRegression\n",
    "pipeline_lr.fit(X_train, y_train)\n",
    "\n",
    "# Fazendo previsões no conjunto de teste para o pipeline de LogisticRegression\n",
    "y_lr_pred = pipeline_lr.predict(X_test)"
   ]
  },
  {
   "cell_type": "code",
   "execution_count": 123,
   "metadata": {},
   "outputs": [
    {
     "name": "stdout",
     "output_type": "stream",
     "text": [
      "Acurácia:  0.891566265060241\n",
      "AUROC: 0.8763072042657394\n",
      "F1-Score: 0.8910067528794328\n",
      "Matriz de confusão:\n"
     ]
    },
    {
     "data": {
      "image/png": "[encoded data removed]",
      "text/plain": [
       "<Figure size 640x480 with 2 Axes>"
      ]
     },
     "metadata": {},
     "output_type": "display_data"
    }
   ],
   "source": [
    "# Avaliando o modelo de Regressão Logística\n",
    "show_metrics(y_test, y_lr_pred)"
   ]
  },
  {
   "cell_type": "code",
   "execution_count": 124,
   "metadata": {},
   "outputs": [],
   "source": [
    "# Treinando o modelo para o pipeline de Naive Bayers\n",
    "pipeline_nb.fit(X_train, y_train)\n",
    "\n",
    "# Fazendo previsões no conjunto de teste para o pipeline de Naive Bayers\n",
    "y_nb_pred = pipeline_nb.predict(X_test)"
   ]
  },
  {
   "cell_type": "code",
   "execution_count": 125,
   "metadata": {},
   "outputs": [
    {
     "name": "stdout",
     "output_type": "stream",
     "text": [
      "Acurácia:  0.8880009835259405\n",
      "AUROC: 0.8737948941515694\n",
      "F1-Score: 0.887595765310394\n",
      "Matriz de confusão:\n"
     ]
    },
    {
     "data": {
      "image/png": "[encoded data removed]",
      "text/plain": [
       "<Figure size 640x480 with 2 Axes>"
      ]
     },
     "metadata": {},
     "output_type": "display_data"
    }
   ],
   "source": [
    "# Avaliando o modelo de Naive Bayers\n",
    "show_metrics(y_test, y_nb_pred)"
   ]
  }
 ],
 "metadata": {
  "kernelspec": {
   "display_name": "enviroments",
   "language": "python",
   "name": "python3"
  },
  "language_info": {
   "codemirror_mode": {
    "name": "ipython",
    "version": 3
   },
   "file_extension": ".py",
   "mimetype": "text/x-python",
   "name": "python",
   "nbconvert_exporter": "python",
   "pygments_lexer": "ipython3",
   "version": "3.12.4"
  }
 },
 "nbformat": 4,
 "nbformat_minor": 2
}
