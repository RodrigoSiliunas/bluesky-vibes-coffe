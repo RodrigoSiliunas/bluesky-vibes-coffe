{
 "cells": [
  {
   "cell_type": "markdown",
   "metadata": {},
   "source": [
    "# Introdução a Análise de Sentimento com Bluesky! 🍓🦋\n",
    "## Utilizando Machine Learning para Monitorar o Comportamento Emocional nas Redes Sociais\n",
    "\n",
    "Nos últimos anos, a análise de sentimentos tornou-se uma ferramenta fundamental para compreender as interações de usuários em plataformas digitais. Com a crescente ascençao de redes sociais, como o Bluesky, é possível obter insights valiosos sobre o comportamento dos usuários através da análise de suas postagens. O objetivo deste trabalho é aplicar técnicas de Machine Learning para realizar a análise de sentimentos em postagens de usuários da plataforma Bluesky, utilizando bibliotecas como Pandas e Scikit-Learn.\n",
    "\n",
    "O foco principal do projeto é classificar as postagens em sentimentos positivos, neutros e negativos. Com base nessa classificação, será possível atribuir uma nota ao comportamento do usuário ao longo do tempo, permitindo que ele monitore seu estado emocional. Ao identificar tendências depressivas ou negativas em suas postagens, um sistema da rede poderia emitir alertas, visando estimular a auto-reflexão e o autocuidado.\n",
    "\n",
    "Para atingir esse objetivo, o trabalho será dividido em diversas etapas, desde a coleta e pré-processamento dos dados, até a construção de modelos de classificação de sentimentos. O uso das bibliotecas Pandas facilitará a manipulação e limpeza dos dados, enquanto o Scikit-Learn fornecerá as ferramentas necessárias para a construção dos modelos de aprendizado de máquina. Ao final, espera-se oferecer uma solução eficiente para monitoramento do comportamento emocional dos usuários na plataforma Bluesky, promovendo um ambiente digital mais saudável e equilibrado.\n",
    "\n",
    "Embora esta seja uma proposta teórica, sua aplicação prática pode ser verificada por cientistas de dados que desejem rodar o código base, visualizando o resultado da análise e dos modelos de aprendizado. Para o treinamento do algoritmo de Machine Learning, estamos utilizando o famoso [Brazilian E-Commerce Public Dataset](https://www.kaggle.com/datasets/olistbr/brazilian-ecommerce), um conjunto de dados que oferece uma base sólida para treinar modelos de classificação de sentimentos em textos."
   ]
  },
  {
   "cell_type": "code",
   "execution_count": 1,
   "metadata": {},
   "outputs": [],
   "source": [
    "# Essa célula de código importa o módulo warnings passa a ignorar possiveis avisos provenientes das bibliotecas no Python.\n",
    "# Realizamos essa importação para que não tenhamos atenção tomada para avisos que não influenciam na execução do código.\n",
    "\n",
    "import warnings\n",
    "warnings.filterwarnings(\"ignore\")"
   ]
  },
  {
   "cell_type": "markdown",
   "metadata": {},
   "source": [
    "# Numpy & Pandas: A dupla (realmente) dinâmica\n",
    "\n",
    "*`NumPy`* e *`Pandas`* são bibliotecas essenciais no ecossistema Python para ciência de dados e computação numérica. O NumPy fornece suporte para arrays e matrizes multidimensionais, além de funções matemáticas de alto desempenho para operar nesses dados. O Pandas, construído sobre o NumPy, oferece estruturas de dados como Series e DataFrames, que facilitam a manipulação e análise de dados tabulares de forma eficiente.\n",
    "\n",
    "No nosso projeto, utilizaremos ambas as bibliotecas ou partes delas. No entanto, daremos ênfase maior ao uso do Pandas, pois ele nos permite trabalhar de maneira mais eficaz com conjuntos de dados complexos, realizando tarefas de limpeza, transformação e análise exploratória. Embora o NumPy seja menos utilizado diretamente, praticamente todas as bibliotecas voltadas para dados têm um \"dedo\" do NumPy, devido à sua eficiência e velocidade em operações numéricas."
   ]
  },
  {
   "cell_type": "code",
   "execution_count": 2,
   "metadata": {},
   "outputs": [],
   "source": [
    "import pandas as pd\n",
    "import numpy as np"
   ]
  },
  {
   "cell_type": "markdown",
   "metadata": {},
   "source": [
    "# Matplotlib & Seaborn: É melhor que PowerBI mas ainda não perceberam isso\n",
    "\n",
    "*`Seaborn`* e *`matplotlib.pyplot`* são bibliotecas em Python utilizadas para criar visualizações gráficas de dados. O matplotlib.pyplot oferece funções básicas para plotagem de gráficos, como linhas, barras e dispersão. Já o Seaborn é construído sobre o Matplotlib e fornece uma interface mais amigável para gerar gráficos estatísticos atraentes e informativos.\n",
    "\n",
    "Embora tenhamos importado essas bibliotecas para o nosso projeto, não realizaremos análises gráficas devido à falta de tempo. No entanto, é importante conhecer essas ferramentas, pois elas são essenciais para visualizar dados e identificar padrões ou tendências."
   ]
  },
  {
   "cell_type": "code",
   "execution_count": 3,
   "metadata": {},
   "outputs": [],
   "source": [
    "import matplotlib.pyplot as plt\n",
    "import seaborn as sns"
   ]
  },
  {
   "cell_type": "markdown",
   "metadata": {},
   "source": [
    "# Scikit-learn: A biblioteca mais simples de utilizar\n",
    "### Dizem que você pode criar redes neurais com quatro linhas e que você programa pior por causa disso\n",
    "\n",
    "*`Scikit-learn`* é uma biblioteca em Python que fornece ferramentas para a construção de modelos de aprendizado de máquina, classificação, regressão e outras tarefas de machine learning. Ele possui uma API simples e intuitiva, facilitando a integração com outros frameworks e bibliotecas.\n",
    "\n",
    "No nosso projeto, utilizaremos o Scikit-learn para classificar as postagens de usuários de acordo com os sentimentos positivos, neutros e negativos, bem como para treinar um modelo de aprendizado de máquina para realizar a análise de sentimentos.\n",
    "\n",
    "_____________________________________________________________________________\n",
    "\n",
    "### Divisão de Dados e Pipelines\n",
    "* `from sklearn.model_selection import train_test_split`</br>\n",
    "Função para dividir o conjunto de dados em conjuntos de treinamento e teste.\n",
    "\n",
    "* `from sklearn.pipeline import Pipeline`</br>\n",
    "Classe que permite a criação de uma sequência de transformações e um estimador final em um único objeto.\n",
    "\n",
    "____________________________________________________________________________\n",
    "\n",
    "### Extração de Características de Texto\n",
    "* `from sklearn.feature_extraction.text import CountVectorizer`</br>\n",
    "Converte uma coleção de documentos de texto em uma matriz de contagem de tokens (bag-of-words).\n",
    "\n",
    "* `from sklearn.feature_extraction.text import TfidfVectorizer`</br>\n",
    "Transforma textos em uma representação numérica baseada no TF-IDF (Term Frequency-Inverse Document Frequency).\n",
    "\n",
    "____________________________________________________________________________\n",
    "\n",
    "### Modelos de Aprendizado de Máquina\n",
    "\n",
    "* `from sklearn.linear_model import LogisticRegression`</br>\n",
    "Implementação do modelo de Regressão Logística para tarefas de classificação.\n",
    "\n",
    "* `from sklearn.naive_bayes import MultinomialNB`</br>\n",
    "Classificador Naive Bayes Multinomial, frequentemente usado em dados discretos como contagens de palavras\n",
    "\n",
    "____________________________________________________________________________\n",
    "\n",
    "### Métricas de Avaliação\n",
    "\n",
    "* `from sklearn.metrics import accuracy_score`</br>\n",
    "Calcula a acurácia da classificação.\n",
    "\n",
    "* `from sklearn.metrics import confusion_matrix`</br>\n",
    "Gera a matriz de confusão para avaliar a qualidade das previsões.\n",
    "\n",
    "* `from sklearn.metrics import f1_score`</br>\n",
    "Calcula o F1-Score, a média harmônica da precisão e recall.\n",
    "\n",
    "* `from sklearn.metrics import roc_auc_score`</br>\n",
    "Calcula a área sob a curva ROC, utilizada para avaliar modelos de classificação binária."
   ]
  },
  {
   "cell_type": "code",
   "execution_count": 4,
   "metadata": {},
   "outputs": [],
   "source": [
    "from sklearn.model_selection import train_test_split\n",
    "from sklearn.pipeline import Pipeline\n",
    "\n",
    "from sklearn.feature_extraction.text import CountVectorizer\n",
    "from sklearn.feature_extraction.text import TfidfVectorizer\n",
    "\n",
    "from sklearn.linear_model import LogisticRegression\n",
    "from sklearn.naive_bayes import MultinomialNB\n",
    "\n",
    "from sklearn.metrics import accuracy_score, confusion_matrix, f1_score, roc_auc_score"
   ]
  },
  {
   "cell_type": "markdown",
   "metadata": {},
   "source": [
    "# Um resumo sobre o NLTK\n",
    "\n",
    "O **NLTK (Natural Language Toolkit)** é uma biblioteca em Python destinada ao **Processamento de Linguagem Natural (PLN)** (Ou NLP se você manjar do Engrish). Ela oferece um conjunto abrangente de ferramentas e recursos para trabalhar com dados textuais. Com o NLTK, é possível realizar diversas tarefas, como:\n",
    "\n",
    "* **Tokenização**: Dividir texto em unidades linguísticas, como palavras ou frases.\n",
    "* **Stemming e Lematização**: Reduzir palavras às suas raízes ou formas canônicas.\n",
    "* **Remoção de Stopwords**: Eliminar palavras comuns que podem não agregar significado significativo à análise.\n",
    "* **Análise Sintática**: Entender a estrutura gramatical das sentenças.\n",
    "* **Extração de Entidades Nomeadas**: Identificar e classificar elementos importantes no texto, como nomes de pessoas, lugares ou organizações.\n",
    "\n",
    "O NLTK é amplamente utilizado em projetos de **mineração de texto, chatbots, análise de sentimentos** e outras aplicações que envolvem a compreensão e manipulação de linguagem humana. Ele facilita o desenvolvimento de soluções complexas de PLN, fornecendo módulos prontos e datasets para experimentação e pesquisa.\n",
    "\n",
    "_____________________________________________________________________________\n",
    "\n",
    "# NLTK em nosso contexto\n",
    "* `from nltk.corpus import stopwords`</br>\n",
    "Importa uma lista de stopwords, que são palavras comuns em um idioma (como \"e\", \"de\", \"o\") que geralmente são removidas durante o pré-processamento de texto para melhorar a análise, já que adicionam pouco valor semântico.\n",
    "\n",
    "* `from nltk.tokenize import word_tokenize`</br>\n",
    "Importa a função de tokenização de palavras, que divide um texto em palavras individuais ou tokens. Essa etapa é fundamental para preparar os dados textuais para tarefas de processamento de linguagem natural."
   ]
  },
  {
   "cell_type": "code",
   "execution_count": 5,
   "metadata": {},
   "outputs": [],
   "source": [
    "from nltk.corpus import stopwords\n",
    "from nltk.tokenize import word_tokenize"
   ]
  },
  {
   "cell_type": "code",
   "execution_count": 6,
   "metadata": {},
   "outputs": [
    {
     "name": "stderr",
     "output_type": "stream",
     "text": [
      "[nltk_data] Downloading package stopwords to\n",
      "[nltk_data]     C:\\Users\\rodri\\AppData\\Roaming\\nltk_data...\n",
      "[nltk_data]   Package stopwords is already up-to-date!\n",
      "[nltk_data] Downloading package punkt to\n",
      "[nltk_data]     C:\\Users\\rodri\\AppData\\Roaming\\nltk_data...\n",
      "[nltk_data]   Package punkt is already up-to-date!\n",
      "[nltk_data] Downloading package punkt_tab to\n",
      "[nltk_data]     C:\\Users\\rodri\\AppData\\Roaming\\nltk_data...\n",
      "[nltk_data]   Package punkt_tab is already up-to-date!\n"
     ]
    },
    {
     "data": {
      "text/plain": [
       "True"
      ]
     },
     "execution_count": 6,
     "metadata": {},
     "output_type": "execute_result"
    }
   ],
   "source": [
    "# Certifique-se de que as stopwords estão baixadas\n",
    "import nltk\n",
    "nltk.download('stopwords')\n",
    "nltk.download('punkt')\n",
    "nltk.download('punkt_tab')"
   ]
  },
  {
   "cell_type": "markdown",
   "metadata": {},
   "source": [
    "# AT Proto: Redes sociais descentralizadas? Quanto tempo até os malucos começarem a criar as redes deles?\n",
    "\n",
    "O AT Protocol (Authenticated Transfer Protocol) é uma nova estrutura descentralizada para redes sociais, desenvolvida para promover a interoperabilidade entre diferentes plataformas, permitindo que usuários tenham controle sobre seus dados e identidades digitais. O **Bluesky** é uma plataforma de mídia social que utiliza o *AT Protocol* para oferecer uma experiência de rede descentralizada e mais aberta.\n",
    "\n",
    "No contexto da nossa aplicação, fazemos uso do AT Protocol em conjunto com o *Bluesky* para nos conectar à API do *Bluesky* e obter os últimos cem posts de um determinado perfil de usuário. Isso nos permite extrair e analisar conteúdos de usuários específicos, aproveitando a flexibilidade e a segurança proporcionadas pela arquitetura descentralizada do AT Protocol."
   ]
  },
  {
   "cell_type": "code",
   "execution_count": 7,
   "metadata": {},
   "outputs": [],
   "source": [
    "from atproto import Client"
   ]
  },
  {
   "cell_type": "markdown",
   "metadata": {},
   "source": [
    "# Código Limpo: É código legível OU código que segue padrões de um livro? Sei lá\n",
    "\n",
    "Obrigado pela leitura! Adorei nosso papo, mas agora vou permitir que o código fale por si mesmo. Abaixo, você encontrará o código seguido de pequenos comentários."
   ]
  },
  {
   "cell_type": "code",
   "execution_count": 8,
   "metadata": {},
   "outputs": [
    {
     "data": {
      "text/plain": [
       "(99224, 7)"
      ]
     },
     "execution_count": 8,
     "metadata": {},
     "output_type": "execute_result"
    }
   ],
   "source": [
    "# Realizamos a leitura dos dados CSV e transformamos em DataFrame com Pandas; Trabalharemos com o Dataset \"Olist\" nesse projeto\n",
    "df = pd.read_csv('./olist_order_reviews_dataset.csv')\n",
    "\n",
    "# Exibimos o a quantidade de linhas e colunas em nosso DataFrame\n",
    "df.shape"
   ]
  },
  {
   "cell_type": "code",
   "execution_count": 9,
   "metadata": {},
   "outputs": [
    {
     "name": "stdout",
     "output_type": "stream",
     "text": [
      "Número de reviews: 99224\n",
      "Registros únicos de reviews: 98410\n"
     ]
    }
   ],
   "source": [
    "print(f'Número de reviews: {len(df)}')\n",
    "print(f'Registros únicos de reviews: {df[\"review_id\"].nunique()}')"
   ]
  },
  {
   "cell_type": "code",
   "execution_count": 10,
   "metadata": {},
   "outputs": [
    {
     "data": {
      "text/plain": [
       "review_id                      0\n",
       "order_id                       0\n",
       "review_score                   0\n",
       "review_comment_title       87656\n",
       "review_comment_message     58247\n",
       "review_creation_date           0\n",
       "review_answer_timestamp        0\n",
       "dtype: int64"
      ]
     },
     "execution_count": 10,
     "metadata": {},
     "output_type": "execute_result"
    }
   ],
   "source": [
    "# Qual a quantidade de registro nulos por feature?\n",
    "df.isnull().sum()"
   ]
  },
  {
   "cell_type": "code",
   "execution_count": 11,
   "metadata": {},
   "outputs": [],
   "source": [
    "# Registro com comentário nulo obviamente não nos serve, então descartamos:\n",
    "df = df.dropna(subset=['review_comment_message'])"
   ]
  },
  {
   "cell_type": "code",
   "execution_count": 12,
   "metadata": {},
   "outputs": [],
   "source": [
    "# E também foi detectado registro com id duplicado, portanto, vamos descartar o lixo:\n",
    "df.drop_duplicates(subset='review_id', inplace=True)"
   ]
  },
  {
   "cell_type": "code",
   "execution_count": 13,
   "metadata": {},
   "outputs": [],
   "source": [
    "# Para fazer o processo de steaming nós optamos por trabalhar com todas palavras em minúsculo\n",
    "df['review_comment_message'] = df['review_comment_message'].map(lambda x: x.lower())"
   ]
  },
  {
   "cell_type": "code",
   "execution_count": 14,
   "metadata": {},
   "outputs": [],
   "source": [
    "# Como também nosso foco é análise de sentimento, tanto faz as colunas order_id, review_creation_date e review_answer_timestamp\n",
    "df.drop(columns=['order_id', 'review_creation_date', 'review_answer_timestamp'], inplace=True)"
   ]
  },
  {
   "cell_type": "code",
   "execution_count": 15,
   "metadata": {},
   "outputs": [],
   "source": [
    "# Preenche os vazios para não ter problemas de concatenação futura\n",
    "df['review_comment_title'].fillna('', inplace=True)\n",
    "\n",
    "# Para melhorar nosso target a gente vai criar uma nova feature que é a junção do título com os comentários\n",
    "df['review'] = df['review_comment_title'] + ' ' + df['review_comment_message']\n",
    "\n",
    "# Filtra os reviews que não possuem texto, já que não temos como fazer o processamento de texto com um texto vazio.\n",
    "df = df[(df['review'] != ' ') & (df['review'] != '') & (df['review'] != np.nan)]"
   ]
  },
  {
   "cell_type": "code",
   "execution_count": 16,
   "metadata": {},
   "outputs": [],
   "source": [
    "# Então basicamente temos essa feature chamada review_score que é nada mais nada menos que a classificação da avaliação, se ela é positiva, ou negativa.\n",
    "# Está por estrela, mas se for maior que três estrelas a gente considera positiva e se for menos que isso é negativa.\n",
    "# Então basicamente temos como resultado as labels.\n",
    "\n",
    "labels = []\n",
    "\n",
    "for score in df['review_score']:\n",
    "  if score > 3.5:\n",
    "    labels.append(1)\n",
    "  else:\n",
    "    labels.append(0)\n",
    "\n",
    "df['label'] = labels"
   ]
  },
  {
   "cell_type": "code",
   "execution_count": 17,
   "metadata": {},
   "outputs": [],
   "source": [
    "# Obtém as stopwords em português do módulo NLTK\n",
    "stop_words = stopwords.words(\"portuguese\")\n",
    "\n",
    "# Remoção das stopwords \"não\" e \"nem\" pois elas modificam drasticamente o sentido de uma frase, portanto, para melhor performance optamos por remove-las.\n",
    "stop_words.remove('não')\n",
    "stop_words.remove('nem')"
   ]
  },
  {
   "cell_type": "code",
   "execution_count": 18,
   "metadata": {},
   "outputs": [],
   "source": [
    "import re\n",
    "\n",
    "# Função para limpar o texto\n",
    "def clean_text(text):\n",
    "    text = re.sub(r\"[\\W\\d_]+\", \" \", text)\n",
    "    tokens = word_tokenize(text)\n",
    "    cleaned_text = ' '.join([word for word in tokens if word not in set(stop_words)])\n",
    "    return cleaned_text"
   ]
  },
  {
   "cell_type": "code",
   "execution_count": 19,
   "metadata": {},
   "outputs": [],
   "source": [
    "# Usamos a função que limpa o texto em nossa coluna de review\n",
    "df['review'] = df['review'].apply(clean_text)"
   ]
  },
  {
   "cell_type": "code",
   "execution_count": 20,
   "metadata": {},
   "outputs": [],
   "source": [
    "vectorizer = CountVectorizer(binary=True, max_features=5000)"
   ]
  },
  {
   "cell_type": "code",
   "execution_count": 21,
   "metadata": {},
   "outputs": [],
   "source": [
    "X = vectorizer.fit_transform(df['review'])"
   ]
  },
  {
   "cell_type": "code",
   "execution_count": 22,
   "metadata": {},
   "outputs": [],
   "source": [
    "X_train, X_test, y_train, y_test = \\\n",
    "    train_test_split(X, df['label'], test_size=0.3, random_state=42)"
   ]
  },
  {
   "cell_type": "code",
   "execution_count": 23,
   "metadata": {},
   "outputs": [
    {
     "data": {
      "text/html": [
       "<style>#sk-container-id-1 {\n",
       "  /* Definition of color scheme common for light and dark mode */\n",
       "  --sklearn-color-text: black;\n",
       "  --sklearn-color-line: gray;\n",
       "  /* Definition of color scheme for unfitted estimators */\n",
       "  --sklearn-color-unfitted-level-0: #fff5e6;\n",
       "  --sklearn-color-unfitted-level-1: #f6e4d2;\n",
       "  --sklearn-color-unfitted-level-2: #ffe0b3;\n",
       "  --sklearn-color-unfitted-level-3: chocolate;\n",
       "  /* Definition of color scheme for fitted estimators */\n",
       "  --sklearn-color-fitted-level-0: #f0f8ff;\n",
       "  --sklearn-color-fitted-level-1: #d4ebff;\n",
       "  --sklearn-color-fitted-level-2: #b3dbfd;\n",
       "  --sklearn-color-fitted-level-3: cornflowerblue;\n",
       "\n",
       "  /* Specific color for light theme */\n",
       "  --sklearn-color-text-on-default-background: var(--sg-text-color, var(--theme-code-foreground, var(--jp-content-font-color1, black)));\n",
       "  --sklearn-color-background: var(--sg-background-color, var(--theme-background, var(--jp-layout-color0, white)));\n",
       "  --sklearn-color-border-box: var(--sg-text-color, var(--theme-code-foreground, var(--jp-content-font-color1, black)));\n",
       "  --sklearn-color-icon: #696969;\n",
       "\n",
       "  @media (prefers-color-scheme: dark) {\n",
       "    /* Redefinition of color scheme for dark theme */\n",
       "    --sklearn-color-text-on-default-background: var(--sg-text-color, var(--theme-code-foreground, var(--jp-content-font-color1, white)));\n",
       "    --sklearn-color-background: var(--sg-background-color, var(--theme-background, var(--jp-layout-color0, #111)));\n",
       "    --sklearn-color-border-box: var(--sg-text-color, var(--theme-code-foreground, var(--jp-content-font-color1, white)));\n",
       "    --sklearn-color-icon: #878787;\n",
       "  }\n",
       "}\n",
       "\n",
       "#sk-container-id-1 {\n",
       "  color: var(--sklearn-color-text);\n",
       "}\n",
       "\n",
       "#sk-container-id-1 pre {\n",
       "  padding: 0;\n",
       "}\n",
       "\n",
       "#sk-container-id-1 input.sk-hidden--visually {\n",
       "  border: 0;\n",
       "  clip: rect(1px 1px 1px 1px);\n",
       "  clip: rect(1px, 1px, 1px, 1px);\n",
       "  height: 1px;\n",
       "  margin: -1px;\n",
       "  overflow: hidden;\n",
       "  padding: 0;\n",
       "  position: absolute;\n",
       "  width: 1px;\n",
       "}\n",
       "\n",
       "#sk-container-id-1 div.sk-dashed-wrapped {\n",
       "  border: 1px dashed var(--sklearn-color-line);\n",
       "  margin: 0 0.4em 0.5em 0.4em;\n",
       "  box-sizing: border-box;\n",
       "  padding-bottom: 0.4em;\n",
       "  background-color: var(--sklearn-color-background);\n",
       "}\n",
       "\n",
       "#sk-container-id-1 div.sk-container {\n",
       "  /* jupyter's `normalize.less` sets `[hidden] { display: none; }`\n",
       "     but bootstrap.min.css set `[hidden] { display: none !important; }`\n",
       "     so we also need the `!important` here to be able to override the\n",
       "     default hidden behavior on the sphinx rendered scikit-learn.org.\n",
       "     See: https://github.com/scikit-learn/scikit-learn/issues/21755 */\n",
       "  display: inline-block !important;\n",
       "  position: relative;\n",
       "}\n",
       "\n",
       "#sk-container-id-1 div.sk-text-repr-fallback {\n",
       "  display: none;\n",
       "}\n",
       "\n",
       "div.sk-parallel-item,\n",
       "div.sk-serial,\n",
       "div.sk-item {\n",
       "  /* draw centered vertical line to link estimators */\n",
       "  background-image: linear-gradient(var(--sklearn-color-text-on-default-background), var(--sklearn-color-text-on-default-background));\n",
       "  background-size: 2px 100%;\n",
       "  background-repeat: no-repeat;\n",
       "  background-position: center center;\n",
       "}\n",
       "\n",
       "/* Parallel-specific style estimator block */\n",
       "\n",
       "#sk-container-id-1 div.sk-parallel-item::after {\n",
       "  content: \"\";\n",
       "  width: 100%;\n",
       "  border-bottom: 2px solid var(--sklearn-color-text-on-default-background);\n",
       "  flex-grow: 1;\n",
       "}\n",
       "\n",
       "#sk-container-id-1 div.sk-parallel {\n",
       "  display: flex;\n",
       "  align-items: stretch;\n",
       "  justify-content: center;\n",
       "  background-color: var(--sklearn-color-background);\n",
       "  position: relative;\n",
       "}\n",
       "\n",
       "#sk-container-id-1 div.sk-parallel-item {\n",
       "  display: flex;\n",
       "  flex-direction: column;\n",
       "}\n",
       "\n",
       "#sk-container-id-1 div.sk-parallel-item:first-child::after {\n",
       "  align-self: flex-end;\n",
       "  width: 50%;\n",
       "}\n",
       "\n",
       "#sk-container-id-1 div.sk-parallel-item:last-child::after {\n",
       "  align-self: flex-start;\n",
       "  width: 50%;\n",
       "}\n",
       "\n",
       "#sk-container-id-1 div.sk-parallel-item:only-child::after {\n",
       "  width: 0;\n",
       "}\n",
       "\n",
       "/* Serial-specific style estimator block */\n",
       "\n",
       "#sk-container-id-1 div.sk-serial {\n",
       "  display: flex;\n",
       "  flex-direction: column;\n",
       "  align-items: center;\n",
       "  background-color: var(--sklearn-color-background);\n",
       "  padding-right: 1em;\n",
       "  padding-left: 1em;\n",
       "}\n",
       "\n",
       "\n",
       "/* Toggleable style: style used for estimator/Pipeline/ColumnTransformer box that is\n",
       "clickable and can be expanded/collapsed.\n",
       "- Pipeline and ColumnTransformer use this feature and define the default style\n",
       "- Estimators will overwrite some part of the style using the `sk-estimator` class\n",
       "*/\n",
       "\n",
       "/* Pipeline and ColumnTransformer style (default) */\n",
       "\n",
       "#sk-container-id-1 div.sk-toggleable {\n",
       "  /* Default theme specific background. It is overwritten whether we have a\n",
       "  specific estimator or a Pipeline/ColumnTransformer */\n",
       "  background-color: var(--sklearn-color-background);\n",
       "}\n",
       "\n",
       "/* Toggleable label */\n",
       "#sk-container-id-1 label.sk-toggleable__label {\n",
       "  cursor: pointer;\n",
       "  display: block;\n",
       "  width: 100%;\n",
       "  margin-bottom: 0;\n",
       "  padding: 0.5em;\n",
       "  box-sizing: border-box;\n",
       "  text-align: center;\n",
       "}\n",
       "\n",
       "#sk-container-id-1 label.sk-toggleable__label-arrow:before {\n",
       "  /* Arrow on the left of the label */\n",
       "  content: \"▸\";\n",
       "  float: left;\n",
       "  margin-right: 0.25em;\n",
       "  color: var(--sklearn-color-icon);\n",
       "}\n",
       "\n",
       "#sk-container-id-1 label.sk-toggleable__label-arrow:hover:before {\n",
       "  color: var(--sklearn-color-text);\n",
       "}\n",
       "\n",
       "/* Toggleable content - dropdown */\n",
       "\n",
       "#sk-container-id-1 div.sk-toggleable__content {\n",
       "  max-height: 0;\n",
       "  max-width: 0;\n",
       "  overflow: hidden;\n",
       "  text-align: left;\n",
       "  /* unfitted */\n",
       "  background-color: var(--sklearn-color-unfitted-level-0);\n",
       "}\n",
       "\n",
       "#sk-container-id-1 div.sk-toggleable__content.fitted {\n",
       "  /* fitted */\n",
       "  background-color: var(--sklearn-color-fitted-level-0);\n",
       "}\n",
       "\n",
       "#sk-container-id-1 div.sk-toggleable__content pre {\n",
       "  margin: 0.2em;\n",
       "  border-radius: 0.25em;\n",
       "  color: var(--sklearn-color-text);\n",
       "  /* unfitted */\n",
       "  background-color: var(--sklearn-color-unfitted-level-0);\n",
       "}\n",
       "\n",
       "#sk-container-id-1 div.sk-toggleable__content.fitted pre {\n",
       "  /* unfitted */\n",
       "  background-color: var(--sklearn-color-fitted-level-0);\n",
       "}\n",
       "\n",
       "#sk-container-id-1 input.sk-toggleable__control:checked~div.sk-toggleable__content {\n",
       "  /* Expand drop-down */\n",
       "  max-height: 200px;\n",
       "  max-width: 100%;\n",
       "  overflow: auto;\n",
       "}\n",
       "\n",
       "#sk-container-id-1 input.sk-toggleable__control:checked~label.sk-toggleable__label-arrow:before {\n",
       "  content: \"▾\";\n",
       "}\n",
       "\n",
       "/* Pipeline/ColumnTransformer-specific style */\n",
       "\n",
       "#sk-container-id-1 div.sk-label input.sk-toggleable__control:checked~label.sk-toggleable__label {\n",
       "  color: var(--sklearn-color-text);\n",
       "  background-color: var(--sklearn-color-unfitted-level-2);\n",
       "}\n",
       "\n",
       "#sk-container-id-1 div.sk-label.fitted input.sk-toggleable__control:checked~label.sk-toggleable__label {\n",
       "  background-color: var(--sklearn-color-fitted-level-2);\n",
       "}\n",
       "\n",
       "/* Estimator-specific style */\n",
       "\n",
       "/* Colorize estimator box */\n",
       "#sk-container-id-1 div.sk-estimator input.sk-toggleable__control:checked~label.sk-toggleable__label {\n",
       "  /* unfitted */\n",
       "  background-color: var(--sklearn-color-unfitted-level-2);\n",
       "}\n",
       "\n",
       "#sk-container-id-1 div.sk-estimator.fitted input.sk-toggleable__control:checked~label.sk-toggleable__label {\n",
       "  /* fitted */\n",
       "  background-color: var(--sklearn-color-fitted-level-2);\n",
       "}\n",
       "\n",
       "#sk-container-id-1 div.sk-label label.sk-toggleable__label,\n",
       "#sk-container-id-1 div.sk-label label {\n",
       "  /* The background is the default theme color */\n",
       "  color: var(--sklearn-color-text-on-default-background);\n",
       "}\n",
       "\n",
       "/* On hover, darken the color of the background */\n",
       "#sk-container-id-1 div.sk-label:hover label.sk-toggleable__label {\n",
       "  color: var(--sklearn-color-text);\n",
       "  background-color: var(--sklearn-color-unfitted-level-2);\n",
       "}\n",
       "\n",
       "/* Label box, darken color on hover, fitted */\n",
       "#sk-container-id-1 div.sk-label.fitted:hover label.sk-toggleable__label.fitted {\n",
       "  color: var(--sklearn-color-text);\n",
       "  background-color: var(--sklearn-color-fitted-level-2);\n",
       "}\n",
       "\n",
       "/* Estimator label */\n",
       "\n",
       "#sk-container-id-1 div.sk-label label {\n",
       "  font-family: monospace;\n",
       "  font-weight: bold;\n",
       "  display: inline-block;\n",
       "  line-height: 1.2em;\n",
       "}\n",
       "\n",
       "#sk-container-id-1 div.sk-label-container {\n",
       "  text-align: center;\n",
       "}\n",
       "\n",
       "/* Estimator-specific */\n",
       "#sk-container-id-1 div.sk-estimator {\n",
       "  font-family: monospace;\n",
       "  border: 1px dotted var(--sklearn-color-border-box);\n",
       "  border-radius: 0.25em;\n",
       "  box-sizing: border-box;\n",
       "  margin-bottom: 0.5em;\n",
       "  /* unfitted */\n",
       "  background-color: var(--sklearn-color-unfitted-level-0);\n",
       "}\n",
       "\n",
       "#sk-container-id-1 div.sk-estimator.fitted {\n",
       "  /* fitted */\n",
       "  background-color: var(--sklearn-color-fitted-level-0);\n",
       "}\n",
       "\n",
       "/* on hover */\n",
       "#sk-container-id-1 div.sk-estimator:hover {\n",
       "  /* unfitted */\n",
       "  background-color: var(--sklearn-color-unfitted-level-2);\n",
       "}\n",
       "\n",
       "#sk-container-id-1 div.sk-estimator.fitted:hover {\n",
       "  /* fitted */\n",
       "  background-color: var(--sklearn-color-fitted-level-2);\n",
       "}\n",
       "\n",
       "/* Specification for estimator info (e.g. \"i\" and \"?\") */\n",
       "\n",
       "/* Common style for \"i\" and \"?\" */\n",
       "\n",
       ".sk-estimator-doc-link,\n",
       "a:link.sk-estimator-doc-link,\n",
       "a:visited.sk-estimator-doc-link {\n",
       "  float: right;\n",
       "  font-size: smaller;\n",
       "  line-height: 1em;\n",
       "  font-family: monospace;\n",
       "  background-color: var(--sklearn-color-background);\n",
       "  border-radius: 1em;\n",
       "  height: 1em;\n",
       "  width: 1em;\n",
       "  text-decoration: none !important;\n",
       "  margin-left: 1ex;\n",
       "  /* unfitted */\n",
       "  border: var(--sklearn-color-unfitted-level-1) 1pt solid;\n",
       "  color: var(--sklearn-color-unfitted-level-1);\n",
       "}\n",
       "\n",
       ".sk-estimator-doc-link.fitted,\n",
       "a:link.sk-estimator-doc-link.fitted,\n",
       "a:visited.sk-estimator-doc-link.fitted {\n",
       "  /* fitted */\n",
       "  border: var(--sklearn-color-fitted-level-1) 1pt solid;\n",
       "  color: var(--sklearn-color-fitted-level-1);\n",
       "}\n",
       "\n",
       "/* On hover */\n",
       "div.sk-estimator:hover .sk-estimator-doc-link:hover,\n",
       ".sk-estimator-doc-link:hover,\n",
       "div.sk-label-container:hover .sk-estimator-doc-link:hover,\n",
       ".sk-estimator-doc-link:hover {\n",
       "  /* unfitted */\n",
       "  background-color: var(--sklearn-color-unfitted-level-3);\n",
       "  color: var(--sklearn-color-background);\n",
       "  text-decoration: none;\n",
       "}\n",
       "\n",
       "div.sk-estimator.fitted:hover .sk-estimator-doc-link.fitted:hover,\n",
       ".sk-estimator-doc-link.fitted:hover,\n",
       "div.sk-label-container:hover .sk-estimator-doc-link.fitted:hover,\n",
       ".sk-estimator-doc-link.fitted:hover {\n",
       "  /* fitted */\n",
       "  background-color: var(--sklearn-color-fitted-level-3);\n",
       "  color: var(--sklearn-color-background);\n",
       "  text-decoration: none;\n",
       "}\n",
       "\n",
       "/* Span, style for the box shown on hovering the info icon */\n",
       ".sk-estimator-doc-link span {\n",
       "  display: none;\n",
       "  z-index: 9999;\n",
       "  position: relative;\n",
       "  font-weight: normal;\n",
       "  right: .2ex;\n",
       "  padding: .5ex;\n",
       "  margin: .5ex;\n",
       "  width: min-content;\n",
       "  min-width: 20ex;\n",
       "  max-width: 50ex;\n",
       "  color: var(--sklearn-color-text);\n",
       "  box-shadow: 2pt 2pt 4pt #999;\n",
       "  /* unfitted */\n",
       "  background: var(--sklearn-color-unfitted-level-0);\n",
       "  border: .5pt solid var(--sklearn-color-unfitted-level-3);\n",
       "}\n",
       "\n",
       ".sk-estimator-doc-link.fitted span {\n",
       "  /* fitted */\n",
       "  background: var(--sklearn-color-fitted-level-0);\n",
       "  border: var(--sklearn-color-fitted-level-3);\n",
       "}\n",
       "\n",
       ".sk-estimator-doc-link:hover span {\n",
       "  display: block;\n",
       "}\n",
       "\n",
       "/* \"?\"-specific style due to the `<a>` HTML tag */\n",
       "\n",
       "#sk-container-id-1 a.estimator_doc_link {\n",
       "  float: right;\n",
       "  font-size: 1rem;\n",
       "  line-height: 1em;\n",
       "  font-family: monospace;\n",
       "  background-color: var(--sklearn-color-background);\n",
       "  border-radius: 1rem;\n",
       "  height: 1rem;\n",
       "  width: 1rem;\n",
       "  text-decoration: none;\n",
       "  /* unfitted */\n",
       "  color: var(--sklearn-color-unfitted-level-1);\n",
       "  border: var(--sklearn-color-unfitted-level-1) 1pt solid;\n",
       "}\n",
       "\n",
       "#sk-container-id-1 a.estimator_doc_link.fitted {\n",
       "  /* fitted */\n",
       "  border: var(--sklearn-color-fitted-level-1) 1pt solid;\n",
       "  color: var(--sklearn-color-fitted-level-1);\n",
       "}\n",
       "\n",
       "/* On hover */\n",
       "#sk-container-id-1 a.estimator_doc_link:hover {\n",
       "  /* unfitted */\n",
       "  background-color: var(--sklearn-color-unfitted-level-3);\n",
       "  color: var(--sklearn-color-background);\n",
       "  text-decoration: none;\n",
       "}\n",
       "\n",
       "#sk-container-id-1 a.estimator_doc_link.fitted:hover {\n",
       "  /* fitted */\n",
       "  background-color: var(--sklearn-color-fitted-level-3);\n",
       "}\n",
       "</style><div id=\"sk-container-id-1\" class=\"sk-top-container\"><div class=\"sk-text-repr-fallback\"><pre>LogisticRegression()</pre><b>In a Jupyter environment, please rerun this cell to show the HTML representation or trust the notebook. <br />On GitHub, the HTML representation is unable to render, please try loading this page with nbviewer.org.</b></div><div class=\"sk-container\" hidden><div class=\"sk-item\"><div class=\"sk-estimator fitted sk-toggleable\"><input class=\"sk-toggleable__control sk-hidden--visually\" id=\"sk-estimator-id-1\" type=\"checkbox\" checked><label for=\"sk-estimator-id-1\" class=\"sk-toggleable__label fitted sk-toggleable__label-arrow fitted\">&nbsp;&nbsp;LogisticRegression<a class=\"sk-estimator-doc-link fitted\" rel=\"noreferrer\" target=\"_blank\" href=\"https://scikit-learn.org/1.5/modules/generated/sklearn.linear_model.LogisticRegression.html\">?<span>Documentation for LogisticRegression</span></a><span class=\"sk-estimator-doc-link fitted\">i<span>Fitted</span></span></label><div class=\"sk-toggleable__content fitted\"><pre>LogisticRegression()</pre></div> </div></div></div></div>"
      ],
      "text/plain": [
       "LogisticRegression()"
      ]
     },
     "execution_count": 23,
     "metadata": {},
     "output_type": "execute_result"
    }
   ],
   "source": [
    "classifier = LogisticRegression()\n",
    "classifier.fit(X_train, y_train)"
   ]
  },
  {
   "cell_type": "code",
   "execution_count": 24,
   "metadata": {},
   "outputs": [],
   "source": [
    "y_pred = classifier.predict(X_test)"
   ]
  },
  {
   "cell_type": "code",
   "execution_count": 25,
   "metadata": {},
   "outputs": [],
   "source": [
    "def show_metrics(y_true, y_pred):\n",
    "  print(\"Acurácia: \", accuracy_score(y_true, y_pred))\n",
    "  print(\"AUROC:\", roc_auc_score(y_true, y_pred))\n",
    "  print(\"F1-Score:\", f1_score(y_true, y_pred, average='weighted'))\n",
    "  print(\"Matriz de confusão:\")\n",
    "  sns.heatmap(confusion_matrix(y_true, y_pred), annot=True)\n",
    "  plt.show()"
   ]
  },
  {
   "cell_type": "code",
   "execution_count": 26,
   "metadata": {},
   "outputs": [
    {
     "name": "stdout",
     "output_type": "stream",
     "text": [
      "Acurácia:  0.8914843045651996\n",
      "AUROC: 0.8760068711740491\n",
      "F1-Score: 0.8909383497681884\n",
      "Matriz de confusão:\n"
     ]
    },
    {
     "data": {
      "image/png": "[encoded data removed]",
      "text/plain": [
       "<Figure size 640x480 with 2 Axes>"
      ]
     },
     "metadata": {},
     "output_type": "display_data"
    }
   ],
   "source": [
    "show_metrics(y_test, y_pred)"
   ]
  },
  {
   "cell_type": "code",
   "execution_count": 27,
   "metadata": {},
   "outputs": [],
   "source": [
    "def is_positive_text(text: str) -> bool:\n",
    "  texto_vetorizado = vectorizer.transform([text])\n",
    "  pred = classifier.predict(texto_vetorizado)\n",
    "\n",
    "  if pred == 1:\n",
    "    return True\n",
    "\n",
    "  return False"
   ]
  },
  {
   "cell_type": "code",
   "execution_count": 28,
   "metadata": {},
   "outputs": [],
   "source": [
    "# Importamos a biblioteca python_doenv e os para que minhas credenciais não vazem no vídeo HAHAHA. =/\n",
    "import os\n",
    "from dotenv import load_dotenv\n",
    "\n",
    "load_dotenv()\n",
    "\n",
    "\n",
    "E_MAIL = os.environ.get('E_MAIL', None)\n",
    "PASSWORD = os.environ.get('PASSWORD', None)"
   ]
  },
  {
   "cell_type": "code",
   "execution_count": 29,
   "metadata": {},
   "outputs": [
    {
     "data": {
      "text/plain": [
       "ProfileViewDetailed(did='did:plc:ayebu67ottncbwnxzr6lcjb2', handle='rsiliunas.bsky.social', associated=ProfileAssociated(chat=ProfileAssociatedChat(allow_incoming='following', py_type='app.bsky.actor.defs#profileAssociatedChat'), feedgens=0, labeler=False, lists=0, starter_packs=0, py_type='app.bsky.actor.defs#profileAssociated'), avatar='https://cdn.bsky.app/img/avatar/plain/did:plc:ayebu67ottncbwnxzr6lcjb2/bafkreiaplkrxn4jeklybn6njhafx525adbyscpm7yi27ktztholzcyofcq@jpeg', banner=None, created_at='2024-07-17T04:05:47.275Z', description=None, display_name='Sili', followers_count=114, follows_count=11, indexed_at='2024-08-30T20:28:10.538Z', joined_via_starter_pack=None, labels=[], posts_count=24, viewer=ViewerState(blocked_by=False, blocking=None, blocking_by_list=None, followed_by=None, following=None, known_followers=KnownFollowers(count=1, followers=[ProfileViewBasic(did='did:plc:6ynu7mstp3gpioginx3ye5b2', handle='kittyvivi.bsky.social', associated=ProfileAssociated(chat=ProfileAssociatedChat(allow_incoming='following', py_type='app.bsky.actor.defs#profileAssociatedChat'), feedgens=None, labeler=None, lists=None, starter_packs=None, py_type='app.bsky.actor.defs#profileAssociated'), avatar='https://cdn.bsky.app/img/avatar/plain/did:plc:6ynu7mstp3gpioginx3ye5b2/bafkreiaoqbjf75uc3r6rjhi5zglivonnxeroh4jwnxf2cfwvebycyvs7xm@jpeg', created_at='2024-04-08T14:31:09.590Z', display_name='𐙚 vivi ꒱', labels=[], viewer=ViewerState(blocked_by=False, blocking=None, blocking_by_list=None, followed_by='at://did:plc:6ynu7mstp3gpioginx3ye5b2/app.bsky.graph.follow/3kxhaft6tcm2s', following='at://did:plc:ayebu67ottncbwnxzr6lcjb2/app.bsky.graph.follow/3kxhaef5ovd2s', known_followers=None, muted=False, muted_by_list=None, py_type='app.bsky.actor.defs#viewerState'), py_type='app.bsky.actor.defs#profileViewBasic')], py_type='app.bsky.actor.defs#knownFollowers'), muted=False, muted_by_list=None, py_type='app.bsky.actor.defs#viewerState'), py_type='app.bsky.actor.defs#profileViewDetailed')"
      ]
     },
     "execution_count": 29,
     "metadata": {},
     "output_type": "execute_result"
    }
   ],
   "source": [
    "# Instanciamos nosso cliente AT Proto e nos conectamos a nossa conta do BlueSky!\n",
    "client = Client(base_url='https://bsky.social')\n",
    "client.login(E_MAIL, PASSWORD)"
   ]
  },
  {
   "cell_type": "code",
   "execution_count": 30,
   "metadata": {},
   "outputs": [],
   "source": [
    "# Agora vamos buscar os últimos cem posts de um determinado usuário\n",
    "# bsky_user = 'bolsonarobr.bsky.social'\n",
    "bsky_user = 'lula.com.br'\n",
    "# bsky_user = 'felipeneto.com.br'\n",
    "# bsky_user = 'nando-moura.bsky.social'\n",
    "# bsky_user = 'pablomarcal28.bsky.social'\n",
    "# bsky_user = 'guilhermeboulos.bsky.social'\n"
   ]
  },
  {
   "cell_type": "code",
   "execution_count": 31,
   "metadata": {},
   "outputs": [],
   "source": [
    "# Obtém as últimas cem postagens do usuário\n",
    "response = client.get_author_feed(\n",
    "    actor=bsky_user, limit=100\n",
    ")"
   ]
  },
  {
   "cell_type": "code",
   "execution_count": 32,
   "metadata": {},
   "outputs": [
    {
     "data": {
      "text/plain": [
       "['\\n- Duplicação da BR-163\\n- Conclusão da Ponte Brasil-Paraguai\\n- Fábrica de Fertilizantes em Araucária\\n- 5 novos Institutos Federais\\n- 2 novas policlínicas e uma nova maternidade\\n- Mais 1,5 mil médicos\\n- 73,7 mil famílias beneficiadas do Minha Casa Minha Vida\\n\\nGoverno federal pelo Paraná.',\n",
       " 'Para o povo do Paraná, o governo federal tem realizado investimentos em obras e ações para melhorar a vida de quem mora no estado:\\n\\n- Ampliação de mil km em rodovias\\n- R$ 51 bilhões em crédito para a agricultura via Plano Safra\\n- R$ 30,4 bilhões para a triplicação da descida da Serra do Mar',\n",
       " 'Comitiva brasileira ao lado da nova presidenta do México, Claudia Sheinbaum, desejando um ótimo trabalho e o fortalecimento das relações entre Brasil e México. 🇧🇷🇲🇽\\n\\n📸 Ricardo Stuckert',\n",
       " 'Reunião com o amigo e presidente mexicano López Obrador no seu último dia de mandato. Além do Brasil, presidentes de Belize, Honduras, Cuba, Colômbia, Chile e Guatemala estiveram presentes. 🇧🇷🇲🇽\\n\\n📸 Ricardo Stuckert',\n",
       " 'O espaço do Fórum Empresarial Brasil-México é parte dos nossos esforços para fortalecer as trocas comerciais e de investimentos entre nossos países, as duas maiores economias da América Latina. \\n\\n📸 Ricardo Stuckert',\n",
       " 'Neste 3º mandato, tivemos que reconstruir o Brasil, e assim estamos fazendo: retomando programas sociais, fazendo reajustes salariais e reconstruindo ministérios desmontados pelo governo anterior. #FórumEmpresarialBrasilMéxico',\n",
       " 'É importante não trabalhar com o fígado, mas com o coração, numa perspectiva de fazermos melhor do que fizemos no passado, trazendo boas práticas e mudando o que precisa ser mudado. #FórumEmpresarialBrasilMéxico',\n",
       " 'Eu voltei pela 3x para governar o Brasil. Tive muita sorte em todos os meus mandatos. Temos que ter sensibilidade política não só internamente, mas para fortalecer os laços econômicos com outros países, como estamos fazendo aqui entre Brasil\\xa0e\\xa0México. #FórumEmpresarialBrasilMéxico',\n",
       " 'É sempre muito importante fazermos o reconhecimento das coisas bem feitas executadas pelas APEX, CNI e o Conselho Empresarial Mexicano de Comércio Exterior por organizar um Fórum Empresarial\\xa0como\\xa0este. #FórumEmpresarialBrasilMéxico',\n",
       " 'Uberlândia pode fazer história e eleger em 2024 a primeira mulher negra como prefeita. @todandara.bsky.social tem uma grande trajetória e tenho certeza que fará uma gestão exemplar, com mais educação, saúde, cultura e direitos para o povo. No dia 6, Uberlândia vota 13!',\n",
       " '📸 Ricardo Stuckert',\n",
       " 'Adeus, minha amiga. Meus sentimentos aos parentes, amigos e conterrâneos da Dona Marilda neste momento de despedida.',\n",
       " 'Faltam 7 dias para as eleições. No dia 6 de outubro, peço o seu voto nos prefeitos comprometidos com o avanço do país, mas também nos vereadores e vereadoras que vão fazer a diferença nas Câmaras municipais. Marque aqui o seu candidato ou candidata do 13. \\n\\nvote13.pt.org.br',\n",
       " 'Junto com o companheiro Geraldo Alckmin, escrevi esse artigo sobre a recuperação da indústria nacional.',\n",
       " 'Mais investimentos do governo federal no estado de Goiás:\\n\\n- 3 novas maternidades e 3 novas policlínicas\\n- 3 novos Institutos Federais, oferecendo 7 mil novas vagas\\n- Novo campus de ensino superior na Cidade Ocidental\\n- 61,8 mil novas famílias com casa própria pelo Minha Casa Minha Vida',\n",
       " 'Confira as obras do governo federal no estado de Goiás:\\n\\n- Entrega da Ferrovia Norte-Sul\\n- Ferrovia de Integração Centro-Oeste\\n- Complexo Oncológico\\n- BRT Luziânia-Brasília\\n- Ponte sobre o Rio Araguaia\\n- 348 obras incluindo creches, escolas, abastecimento de água e saneamento básico \\n\\n+',\n",
       " 'Era um militante histórico do Partido dos Trabalhadores e tinha um grande compromisso com a nossa democracia. Meus sentimentos à sua família, amigos e companheiros de militância\\xa0política.',\n",
       " 'Nos despedimos do companheiro Neirobis Kazuo Naga. Ex-prefeito de Angra dos Reis e ex-deputado estadual do Rio de Janeiro, Neirobis também foi secretário de educação municipal, com grande atuação na área, em uma gestão marcada pela valorização dos servidores públicos e em saúde e educação.',\n",
       " 'Posse da nossa nova ministra dos Direitos Humanos e da Cidadania, @macaeevaristo.bsky.social. Ótimo trabalho, ministra!\\n\\n📸 Ricardo Stuckert',\n",
       " 'Mais uma boa notícia para o mercado de trabalho e os empregos no Brasil: a taxa de desemprego em agosto deste ano foi a menor de toda a série histórica da PNAD, iniciada em 2012, e temos mais de 102 milhões de pessoas empregadas. Vão dizer que é sorte, mas é só trabalho.',\n",
       " 'Estamos vivendo um momento importante, em que o BNDES voltou a investir não só na indústria, mas também nos estados, impactando diretamente a vida das pessoas. Agradeço pelos esforços nesse sentido ao presidente do BNDES, Mercante, e aos governadores Eduardo Riedel e Elmano de Freitas.',\n",
       " 'Hoje tivemos importantes anúncios do BNDES para Mato Grosso do Sul e Ceará:\\n\\n- Para o MS serão R$ 2,3 bilhões em melhoria da malha rodoviária do estado, para escoamento da produção agrícola.\\n\\n- O CE vai receber R$ 1 bilhão para abastecimento e esgotamento sanitário.\\n\\n📸 Ricardo Stuckert',\n",
       " 'Estendemos nossa solidariedade aos familiares, amigos e a todo o público que acompanhava seu trabalho.\\n\\nLuiz Inácio e Janja Lula da Silva',\n",
       " 'Nathalia deixa um vazio na comunicação e nos debates no Brasil, assim como na luta por um mundo mais justo. Esperamos que todas as circunstâncias ao redor de sua morte sejam devidamente elucidadas.',\n",
       " 'Com grande tristeza e pesar, soubemos do falecimento da jornalista Nathalia Urban, na Escócia.\\n\\nNathalia era uma analista internacional e jornalista extremamente competente e empenhada. Jovem, com um grande futuro pela frente, que, infelizmente, foi precocemente interrompido.',\n",
       " 'O governo federal segue trabalhando no combate ao fogo em parceria com o Corpo de Bombeiros e brigadistas dos estados, além de investigar quem lucra com a degradação ambiental. Não aceitaremos que o garimpo ilegal e o crime organizado avancem, e vamos continuar trabalhando por desmatamento zero.',\n",
       " 'A solidariedade ao povo palestino nos une, presidente Mahmoud Abbas.\\n\\n🎥 Ricardo Stuckert',\n",
       " 'Ao solidarizar-se com a família, o Governo brasileiro reitera sua condenação, nos mais fortes termos, aos contínuos ataques aéreos israelenses contra zonas civis povoadas no Líbano e renova seu apelo às partes envolvidas para que cessem imediatamente as hostilidades.\\n\\nwww.gov.br/mre/pt-br/ca...',\n",
       " 'Mais investimentos do governo federal no Ceará:\\n\\n- Novo Hospital da UFCA\\n- Nova Maternidade em Caucaia\\n- 764 obras como UBS, escolas de tempo integral e transporte público\\n- 6 novos Institutos Federais\\n- Novo campus do Instituto Tecnológico de Aeronáutica (ITA)\\n- 29,8 mil famílias já receberam MCMV.',\n",
       " 'Alguém do Ceará por aqui? Confira algumas das ações e obras do governo federal no estado:\\n\\n- Cinturão das Águas e o Ramal do Salgado\\n- Barragem Fronteiras\\n- Duplicação da BR-116\\n- Avanço da Ferrovia Transnordestina\\n- Hospital e Maternidade da UFC\\n\\n+',\n",
       " 'Até agora, 620 pessoas foram mortas no Líbano, o maior número de mortes desde a guerra civil no país. Além das mortes na Cisjordânia e do genocídio na Faixa de Gaza, lembro que Netanyahu também foi condenado no Tribunal Internacional e não cumpre os acordos de cessar-fogo. #ColetivaONU',\n",
       " 'Também tive a honra de, ao lado do presidente Sánchez, convocar uma reunião de países democráticos para o combate ao extremismo e ao ódio, durante as atividades da Assembleia da ONU. Debatemos os desafios da democracia e o que fizemos de errado para permitir o avanço desses extremistas. #ColetivaONU',\n",
       " 'Fiz questão de convidar o presidente da Câmara e do Senado para esta Assembleia da ONU, para provar que, mesmo com as adversidades, estamos trabalhando juntos pelo Brasil da forma mais civilizada possível. Sou grato pela presença de Arthur Lira e Rodrigo Pacheco. #ColetivaONU',\n",
       " 'O que está acontecendo agora no Líbano e em Israel é um horror, e nenhuma medida da ONU tem sido cumprida para parar a guerra. O mesmo ocorre entre a Ucrânia e a Rússia. #ColetivaONU',\n",
       " 'Mais uma vez, a participação do Brasil na Conferência da ONU foi um momento de marcar posição sobre as reivindicações que fazemos há anos. Ressaltamos a necessidade de renovar as Nações Unidas para que possa resolver problemas de grandes proporções, o que não está sendo feito agora. #ColetivaONU',\n",
       " '📸 Ricardo Stuckert',\n",
       " 'Encontrei-me com o Presidente da Autoridade Palestina, Mahmoud Abbas. É a primeira vez que eles participam como observadores da Assembleia Geral da ONU. Manifestei minha solidariedade pelo sofrimento das mulheres e crianças palestinas diante da violência e pela necessidade do cessar-fogo imediato.',\n",
       " 'Hoje, participei da abertura da Reunião Ministerial do G20 na ONU, um evento histórico. Estamos comprometidos com o futuro das Nações Unidas e vamos trabalhar com dedicação em prol de um “Mundo Justo e de um Planeta Sustentável”, como diz o lema de nossa presidência do G20.\\n\\n📸 Ricardo Stuckert',\n",
       " '\\nO terceiro eixo é a reforma da governança global. Não conseguimos responder aos desafios globais porque trocamos o multilateralismo por ações unilaterais ou arranjos excludentes. Para romper esse ciclo vicioso, precisamos de coragem para mudar e empenho para superar diferenças.  #G20Brasil',\n",
       " 'O 2º eixo é o enfrentamento da mudança do clima. O G20 é responsável por 80% das emissões globais de gases de efeito estufa. O Brasil trouxe para o debate climático atores como bancos centrais e bancos públicos de desenvolvimento, para garantir uma transição justa. #G20Brasil',\n",
       " 'Os três eixos que guiam nossa presidência do G20 são:\\n\\nA inclusão social. Adotamos as bases para a Aliança Global contra a Fome e a Pobreza. A Aliança vai mobilizar recursos técnicos e financeiros para promover políticas públicas de eficácia comprovada contra esses flagelos. #G20Brasil',\n",
       " 'O Brasil está trabalhando com afinco para conseguir avanços concretos na agenda do G20. No centro das nossas prioridades está a luta contra a desigualdade em todas as suas formas. #G20Brasil',\n",
       " 'Pela 1ª vez na história, os países do G20 se reúnem na sede da ONU, em encontro aberto a todos os membros da Organização. Essa não foi uma decisão trivial. Ela é coerente com nossa profunda convicção de que as Nações Unidas são e devem continuar sendo o coração do sistema multilateral. #G20Brasil',\n",
       " 'Do Primeiro-Ministro do Canadá, Justin Trudeau; do Primeiro-Ministro de Timor-Leste, Xanana Gusmão; assim como dos representantes da Noruega, Colômbia, Quênia, México e Estados Unidos.',\n",
       " 'Agradeço a presença do Presidente do Governo da Espanha, Pedro Sánchez; do Presidente da França, Emmanuel Macron; do Presidente de Cabo Verde, José Maria Neves; do Presidente do Chile, Gabriel Boric; da Primeira-Ministra de Barbados, Mia Mottley; +',\n",
       " 'A experiência brasileira mostrou que o equilíbrio entre os Três Poderes e a resiliência das instituições foram importantes para assegurar a democracia no Brasil. Convidamos os países amigos para uma reunião de nações democráticas com o objetivo de discutir o combate ao extremismo.\\n\\n📸Ricardo Stuckert',\n",
       " 'É inegável que a democracia vive seu momento mais difícil desde a 2ª Guerra Mundial. As notícias falsas atacam o sistema eleitoral e os processos democráticos na América Latina. Na Europa, a xenofobia e o racismo afetam as democracias daquele continente. O extremismo é sintoma de uma crise profunda.',\n",
       " 'O que estamos percebendo, com essa reunião de países em defesa da democracia e combate ao extremismo, é que esse é apenas um primeiro passo, de muitos encontros que precisamos dar para fortalecer o processo democrático nos nossos países e no mundo.',\n",
       " 'Eu me encontrei hoje com a grande atriz Fernanda Torres, que está com o filme \"Ainda Estou Aqui”, representante brasileiro no Oscar em 2025.',\n",
       " 'A Aliança Global contra a Fome e a Pobreza, que lançaremos no Rio de Janeiro em novembro, nasce dessa vontade política e desse espírito de solidariedade. Ela será um dos principais resultados da presidência brasileira do G20 e está aberta ao\\xa0mundo.\\xa0#UNGA79',\n",
       " 'O mundo produz alimentos suficientes para erradicar a fome. Falta criar condições de acesso aos alimentos. Este é o compromisso mais urgente do meu governo: acabar com a fome no Brasil, como fizemos em 2014. Só em 2023, retiramos 24,4 milhões da condição de insegurança alimentar severa. + #UNGA79',\n",
       " '9% da população mundial está subnutrida. O problema é especialmente grave na África e na Ásia, mas também em partes da América Latina. Mulheres e meninas são a maioria em situação de fome no mundo. Mas a fome não é resultado apenas de fatores externos. Ela decorre de escolhas políticas. + #UNGA79',\n",
       " 'A fortuna dos 5 maiores bilionários mais que dobrou, ao passo que 60% da humanidade ficou mais pobre. Os super-ricos pagam proporcionalmente menos impostos do que os trabalhadores. O Brasil tem insistido na cooperação internacional para desenvolver padrões mínimos de tributação\\xa0global.\\xa0#UNGA79',\n",
       " 'A democracia precisa responder às legítimas aspirações dos que não aceitam mais a fome, a desigualdade, o desemprego e a violência. No mundo globalizado não faz sentido recorrer a falsos patriotas e isolacionistas.\\xa0#UNGA79',\n",
       " 'No Brasil, a defesa da democracia implica ação permanente ante investidas extremistas, messiânicas e totalitárias, que espalham o ódio e a intolerância. Brasileiras e brasileiros continuarão a derrotar os que tentam solapar as instituições e colocá-las a serviço de interesses reacionários. #UNGA79',\n",
       " 'Além de enfrentar a crise climática, lutamos contra quem lucra com a degradação ambiental. Não transigiremos com o garimpo ilegal e com o crime organizado. Reduzimos o desmatamento na Amazônia em 50% e vamos erradicá-lo até 2030. Não é admissível pensar soluções sem ouvir os povos indígenas.\\xa0#UNGA79',\n",
       " 'Furacões no Caribe, tufões na Ásia, inundações na África e chuvas torrenciais na Europa. No sul do Brasil, a maior enchente desde 41. A Amazônia atravessa a pior estiagem em 45 anos. Incêndios florestais se alastraram. O meu governo não terceiriza responsabilidade nem abdica da sua soberania #UNGA79',\n",
       " 'O planeta já está farto de acordos climáticos não cumpridos. Está cansado de metas de redução de emissão de carbono negligenciadas e do auxílio financeiro que não chega. O negacionismo sucumbe ante evidências do aquecimento global. 2024 caminha para ser o ano mais quente da história moderna. #UNGA79',\n",
       " 'São mais de 40 mil vítimas fatais, em sua maioria mulheres e crianças. O direito de defesa transformou-se no direito de vingança, que impede um acordo para a liberação de reféns e adia o cessar-fogo.\\xa0#UNGA79',\n",
       " 'Em Gaza e na Cisjordânia, assistimos a uma das maiores crises humanitárias da história recente, e que agora se expande perigosamente para o Líbano. O que começou como ação terrorista de fanáticos contra civis israelenses inocentes, tornou-se punição coletiva de todo o povo palestino. #UNGA79',\n",
       " '2023 ostenta o triste recorde do maior número de conflitos desde a 2ª Guerra Mundial. Os gastos militares globais cresceram pelo 9º ano consecutivo e atingiram 2,4 trilhões de dólares. Esses recursos poderiam ter sido usados para combater a fome e enfrentar a mudança do\\xa0clima.\\xa0#UNGA79',\n",
       " 'Adotamos anteontem o Pacto para o Futuro. Sua difícil aprovação demonstra o enfraquecimento de nossa capacidade coletiva de negociação e diálogo. Precisamos ir muito além e dotar a ONU dos meios necessários para enfrentar as mudanças vertiginosas do panorama internacional.\\xa0#UNGA79',\n",
       " 'Presidente Lula discursa na 79º Assembleia Geral da ONU #UNGA79',\n",
       " 'Antes do discurso do Brasil na abertura da Assembleia Geral da ONU, ao lado do secretário-geral das Nações Unidas, António Guterres.\\n\\n📸 Ricardo Stuckert',\n",
       " 'Recebi com alegria o prêmio Goalkeepers 2024, do Instituto Bill e Melinda Gates, como reconhecimento ao esforço da sociedade brasileira na redução da pobreza e no combate à fome. \\n\\n📸 Ricardo Stuckert',\n",
       " 'Durante a premiação do Goalkeepers 2024, falei a Bill Gates e aos convidados sobre a experiência brasileira com o Bolsa Família e as políticas públicas implementadas pelos nossos governos no combate à miséria, visando retirar o país do Mapa da Fome.',\n",
       " 'No G20 do Brasil vamos discutir a Aliança Global contra a Fome e a Pobreza, a transição energética e governança mundial. Precisamos recuperar o papel da ONU, que não está sendo eficaz. #GoalKeepers2030',\n",
       " 'Acho louvável que um empresário como o Bill Gates tenha uma fundação para ajudar quem mais precisa. Mas o que vai resolver os problemas da miséria no mundo são políticas públicas. #GoalKeepers2030',\n",
       " 'A obsessão que eu tenho de combater a fome no mundo é por conta da minha origem. É inconcebível que, com a tecnologia que temos, o homem tenha ido à Lua e ainda existam crianças passando fome. A fome não é natural, é fruto das decisões humanas. #GoalKeepers2030',\n",
       " 'Reunião bilateral com Ursula von der Leyen, presidenta da Comissão Europeia. Conversamos sobre a importância da finalização do Acordo do Mercosul com a União Europeia para os dois blocos.\\n\\n📸 Ricardo Stuckert',\n",
       " 'Em almoço de trabalho oferecido pelo chanceler da Alemanha, Olaf Scholz, ao lado do presidente de Gana, Nana Akufo-Addo, do primeiro-ministro da Espanha, Pedro Sánchez, da primeira-ministra de Barbados, Mia Mottley, e do primeiro-ministro do Canadá, Justin Trudeau.\\n\\n📸 Ricardo Stuckert',\n",
       " 'Encontrando meu amigo Olaf Scholz para uma\\xa0bilateral entre Brasil e Alemanha.',\n",
       " 'Governo federal pelo Pará:\\n\\n- Duplicação da BR-316 e pavimentação da BR-308\\n- 5 novos Institutos Federais \\n- 2 Policlínicas e uma maternidade\\n- 1,3 mil Mais Médicos\\n- 8,7 famílias com casa própria do Minha Casa, Minha Vida\\n- Mais de 35 mil beneficiados no Luz Para Todos\\n\\nO trabalho continua.',\n",
       " 'O governo federal também está investindo no Pará. Ajude a divulgar as principais obras:\\n\\n- Obra da Nova Doca\\n- Reforma do Mercado Ver-o-Peso\\n- Conclusão da ponte Rio Araguaia e ponte sobre o Rio Xingu\\n- 142 municípios no PAC Seleções com 724 obras como creches, UBS e Escolas de Tempo Integral\\n\\n+',\n",
       " 'Parabéns para as jogadoras do Corinthians que conquistaram o Hexa no Brasileirão. Um exemplo de competência e dedicação também para nosso time masculino. Trabalho igual, salários deveriam ser iguais também. Vai Corinthians. #Timão',\n",
       " 'Na ONU, aprovamos o Pacto para o Futuro. O documento trata de forma inédita a dívida de países em desenvolvimento e a tributação internacional. A criação de uma instância de diálogo entre líderes das Nações e de instituições financeiras promete recolocar a ONU no centro do debate econômico mundial.',\n",
       " 'Como preparação para a COP30, vamos trabalhar por um balanço ético global, reunindo diversos setores da sociedade civil para pensar a ação climática sob o prisma da justiça, da equidade e da solidariedade. Nossa 2ª responsabilidade comum é abrir caminhos diante de novos riscos e oportunidades.',\n",
       " 'Na presidência do G20, o Brasil lançará uma Aliança Global contra a Fome. Na COP28, o mundo realizou balanço global da implementação das metas do Acordo de Paris. Os níveis atuais de redução de emissões de gases estufa e financiamento climático são insuficientes. + #CúpulaDoFuturo',\n",
       " 'Temos duas grandes responsabilidades. A 1ª é nunca retroceder. Não podemos recuar na promoção da igualdade entre homens e mulheres, nem na luta contra o racismo e todas as formas de discriminação. Tampouco podemos voltar a conviver com ameaças nucleares. #CúpulaDoFuturo',\n",
       " 'Aquela reflexão conjunta rendeu frutos como a Comissão de Consolidação da Paz e o Conselho de Direitos Humanos.\\xa0Outras ideias não saíram do papel. #CúpulaDoFuturo',\n",
       " 'Há quase 20 anos, o então Secretário-Geral Kofi Annan nos convidou a pensar em como revigorar o multilateralismo para fazer frente aos desafios do novo milênio. Naquela ocasião, ressaltei a necessidade de reformas para que a ONU pudesse cumprir seu papel histórico. + #CúpulaDoFuturo',\n",
       " 'Já estou na sede da ONU para participar da Cúpula do Futuro. Acompanhe em www.youtube.com/live/RzEi91U...',\n",
       " 'E tem mais, Bahia:\\n\\n- Mais de 1,6 mil obras do PAC Seleções \\n- 8 novos Institutos Federais\\n- Novas 4 maternidades e 4 policlínicas\\n- 35,4 mil famílias já receberam Minha Casa, Minha Vida. \\n\\nO trabalho do governo federal continua.',\n",
       " 'Também estamos trabalhando pela Bahia. \\n\\n- Obras da Ferrovia de Integração Oeste-Leste\\n- 1ª planta de combustível renovável de aviação com 90 mil novos empregos\\n- Duplicação de 40,3 km da BR-116\\n- 346 municípios com UBS, obras de prevenção de risco e expansão do metrô de Salvador\\n\\n+',\n",
       " 'Alguém de Minas Gerais por aqui? Governo federal está trabalhando por Minas.\\n\\n- Duplicação da BR-381 de BH a Caeté\\n- 5  Policlínicas e uma nova maternidade\\n- 8 novos Institutos Federais\\n- 2,2 mil Mais Médicos trabalhando\\n- 86,2 mil famílias no Minha Casa, Minha Vida. \\n- 1,3 mil obras pelo estado',\n",
       " 'E tem mais:\\n\\n- 6 novos Institutos Federais \\n- 1,3 mil médicos do Mais Médicos\\n- 43 mil famílias no Minha Casa, Minha Vida. \\n- Mais de 1 mil obras e ações em transporte, abastecimento de água e prevenção de desastres\\u2060\\n\\nO trabalho continua em parceria com os municípios e o estado do Rio de Janeiro.',\n",
       " 'O governo federal voltou a trabalhar e ter projetos pelo Rio de Janeiro. \\n\\n- BRT Transbrasil\\n- Terminal Deodoro e Gentileza atendendo 400 mil pessoas/dia\\n- R$ 10,75 bilhões para obras na Via Dutra e Rio-Santos \\n- Novo Campus do INCA\\n- Novos Hospitais da UFRJ e Belford Roxo\\n\\n +',\n",
       " 'Mas a perseguição que sofre depois de morto só faz aumentar a venda de seus livros e o interesse, inclusive dos mais jovens, pelas suas ideias, no Brasil e no exterior.\\n \\nPaulo Freire vive. Viva Paulo Freire.',\n",
       " 'Foi perseguido, expulso da universidade, preso e exilado pela ditadura militar. Um quarto de século depois de sua morte, continua temido e odiado pela extrema direita, inimiga feroz da Educação e da construção de um mundo livre das desigualdades.',\n",
       " 'Acreditava na revolução pacífica, por meio da Educação. Dizia: “Educação não transforma o mundo. Educação muda as pessoas. Pessoas transformam o mundo”.',\n",
       " 'O clássico \"Pedagogia do Oprimido\" é 3ª obra mais citada do mundo na área de humanas. Tive o prazer e a honra de conviver com ele. Sou testemunha do seu profundo amor pelos seres humanos, em especial pelos oprimidos que foram \"roubados do seu direito de ser\". A eles, Paulo Freire dedicou sua vida.',\n",
       " 'Hoje, 19 de setembro, é dia de celebrarmos um dos maiores brasileiros do século 20. Se estivesse vivo, Paulo Freire faria103 anos. Educador genial, patrono da Educação Brasileira, Paulo Freire é doutor honoris causa de meia centena de universidades do Brasil e do exterior.',\n",
       " 'Governo federal trabalhando por São Paulo. \\n\\n- Túnel Santos-Guarujá\\n- Rodoanel Norte\\n- Intercidades Campinas-São Paulo\\n- 6 Policlínicas \\n- 12 novos Institutos Federais \\n- 1,4 mil obras\\n- 294,4 mil famílias no Minha Casa, Minha Vida. \\n\\nO trabalho continua em parceria com os municípios e o estado.',\n",
       " '  📸 Ricardo Stuckert',\n",
       " 'Hoje entregamos 21 títulos de domínio a 8 territórios quilombolas:\\n\\n- Aliança e Santa Joana, Maranhão\\n- Sítio Arruda, Lagoa das Pedras e Encantados do Bom Jardim, Ceará\\n- Rosa, Amapá\\n- Caiana dos Crioulos, Paraíba\\n- Acauã, Rio Grande do Norte\\n- Serra da Guia, Sergipe\\n- Cafundó, São Paulo',\n",
       " 'Hoje, visitei Seu Jerônimo, da comunidade quilombola de Mamuna, no Maranhão. O sonho do Seu Jerônimo era me conhecer. E o meu era conhecer o Seu Jerônimo. Obrigada por esse momento! \\n\\n🎥 Ricardo Stuckert',\n",
       " 'Eu tento resolver a questão dos quilombos aqui no Maranhão desde 2003. Às vezes, entre tomarmos a decisão de fazer algo e a ação realmente acontecer, passa pelas mãos de muitas instituições e pela burocracia. Finalmente, estamos aqui, assinando a titulação dessas terras para centenas de famílias.']"
      ]
     },
     "execution_count": 32,
     "metadata": {},
     "output_type": "execute_result"
    }
   ],
   "source": [
    "all_posts = []\n",
    "\n",
    "for _ in response['feed']:\n",
    "    author = _['post']['author']['handle']\n",
    "\n",
    "    if author == bsky_user:\n",
    "        post = _['post']['record']['text']\n",
    "\n",
    "        if (post != None) and (len(post) != 0):\n",
    "            all_posts.append(post)\n",
    "\n",
    "all_posts"
   ]
  },
  {
   "cell_type": "code",
   "execution_count": 33,
   "metadata": {},
   "outputs": [
    {
     "data": {
      "text/plain": [
       "['duplicação br conclusão ponte brasil paraguai fábrica fertilizantes araucária novos institutos federais novas policlínicas nova maternidade mil médicos mil famílias beneficiadas casa vida governo federal paraná',\n",
       " 'povo paraná governo federal realizado investimentos obras ações melhorar vida mora estado ampliação mil km rodovias r bilhões crédito agricultura via plano safra r bilhões triplicação descida serra mar',\n",
       " 'comitiva brasileira lado nova presidenta méxico claudia sheinbaum desejando ótimo trabalho fortalecimento relações brasil méxico ricardo stuckert',\n",
       " 'reunião amigo presidente mexicano lópez obrador último dia mandato além brasil presidentes belize honduras cuba colômbia chile guatemala presentes ricardo stuckert',\n",
       " 'espaço fórum empresarial brasil méxico parte esforços fortalecer trocas comerciais investimentos países duas maiores economias américa latina ricardo stuckert',\n",
       " 'neste º mandato reconstruir brasil assim fazendo retomando programas sociais fazendo reajustes salariais reconstruindo ministérios desmontados governo anterior fórumempresarialbrasilméxico',\n",
       " 'importante não trabalhar fígado coração perspectiva fazermos melhor fizemos passado trazendo boas práticas mudando precisa mudado fórumempresarialbrasilméxico',\n",
       " 'voltei x governar brasil muita sorte todos mandatos ter sensibilidade política não internamente fortalecer laços econômicos outros países fazendo aqui brasil méxico fórumempresarialbrasilméxico',\n",
       " 'sempre importante fazermos reconhecimento coisas bem feitas executadas apex cni conselho empresarial mexicano comércio exterior organizar fórum empresarial fórumempresarialbrasilméxico',\n",
       " 'uberlândia pode fazer história eleger primeira mulher negra prefeita todandara bsky social grande trajetória certeza fará gestão exemplar educação saúde cultura direitos povo dia uberlândia vota',\n",
       " 'ricardo stuckert',\n",
       " 'adeus amiga sentimentos parentes amigos conterrâneos dona marilda neste momento despedida',\n",
       " 'faltam dias eleições dia outubro peço voto prefeitos comprometidos avanço país vereadores vereadoras vão fazer diferença câmaras municipais marque aqui candidato candidata vote pt org br',\n",
       " 'junto companheiro geraldo alckmin escrevi artigo sobre recuperação indústria nacional',\n",
       " 'investimentos governo federal estado goiás novas maternidades novas policlínicas novos institutos federais oferecendo mil novas vagas novo campus ensino superior cidade ocidental mil novas famílias casa própria casa vida',\n",
       " 'confira obras governo federal estado goiás entrega ferrovia norte sul ferrovia integração centro oeste complexo oncológico brt luziânia brasília ponte sobre rio araguaia obras incluindo creches escolas abastecimento água saneamento básico',\n",
       " 'militante histórico partido trabalhadores grande compromisso democracia sentimentos família amigos companheiros militância política',\n",
       " 'despedimos companheiro neirobis kazuo naga ex prefeito angra reis ex deputado estadual rio janeiro neirobis secretário educação municipal grande atuação área gestão marcada valorização servidores públicos saúde educação',\n",
       " 'posse nova ministra direitos humanos cidadania macaeevaristo bsky social ótimo trabalho ministra ricardo stuckert',\n",
       " 'boa notícia mercado trabalho empregos brasil taxa desemprego agosto deste ano menor toda série histórica pnad iniciada milhões pessoas empregadas vão dizer sorte trabalho',\n",
       " 'vivendo momento importante bndes voltou investir não indústria estados impactando diretamente vida pessoas agradeço esforços nesse sentido presidente bndes mercante governadores eduardo riedel elmano freitas',\n",
       " 'hoje importantes anúncios bndes mato grosso sul ceará ms r bilhões melhoria malha rodoviária estado escoamento produção agrícola ce vai receber r bilhão abastecimento esgotamento sanitário ricardo stuckert',\n",
       " 'estendemos solidariedade familiares amigos todo público acompanhava trabalho luiz inácio janja lula silva',\n",
       " 'nathalia deixa vazio comunicação debates brasil assim luta mundo justo esperamos todas circunstâncias redor morte devidamente elucidadas',\n",
       " 'grande tristeza pesar soubemos falecimento jornalista nathalia urban escócia nathalia analista internacional jornalista extremamente competente empenhada jovem grande futuro frente infelizmente precocemente interrompido',\n",
       " 'governo federal segue trabalhando combate fogo parceria corpo bombeiros brigadistas estados além investigar lucra degradação ambiental não aceitaremos garimpo ilegal crime organizado avancem vamos continuar trabalhando desmatamento zero',\n",
       " 'solidariedade povo palestino une presidente mahmoud abbas ricardo stuckert',\n",
       " 'solidarizar família governo brasileiro reitera condenação fortes termos contínuos ataques aéreos israelenses contra zonas civis povoadas líbano renova apelo partes envolvidas cessem imediatamente hostilidades www gov br mre pt br ca',\n",
       " 'investimentos governo federal ceará novo hospital ufca nova maternidade caucaia obras ubs escolas tempo integral transporte público novos institutos federais novo campus instituto tecnológico aeronáutica ita mil famílias receberam mcmv',\n",
       " 'alguém ceará aqui confira algumas ações obras governo federal estado cinturão águas ramal salgado barragem fronteiras duplicação br avanço ferrovia transnordestina hospital maternidade ufc',\n",
       " 'agora pessoas mortas líbano maior número mortes desde guerra civil país além mortes cisjordânia genocídio faixa gaza lembro netanyahu condenado tribunal internacional não cumpre acordos cessar fogo coletivaonu',\n",
       " 'honra lado presidente sánchez convocar reunião países democráticos combate extremismo ódio durante atividades assembleia onu debatemos desafios democracia fizemos errado permitir avanço desses extremistas coletivaonu',\n",
       " 'fiz questão convidar presidente câmara senado assembleia onu provar adversidades trabalhando juntos brasil forma civilizada possível grato presença arthur lira rodrigo pacheco coletivaonu',\n",
       " 'acontecendo agora líbano israel horror nenhuma medida onu sido cumprida parar guerra ocorre ucrânia rússia coletivaonu',\n",
       " 'vez participação brasil conferência onu momento marcar posição sobre reivindicações fazemos anos ressaltamos necessidade renovar nações unidas possa resolver problemas grandes proporções não sendo feito agora coletivaonu',\n",
       " 'ricardo stuckert',\n",
       " 'encontrei presidente autoridade palestina mahmoud abbas primeira vez participam observadores assembleia geral onu manifestei solidariedade sofrimento mulheres crianças palestinas diante violência necessidade cessar fogo imediato',\n",
       " 'hoje participei abertura reunião ministerial g onu evento histórico comprometidos futuro nações unidas vamos trabalhar dedicação prol mundo justo planeta sustentável diz lema presidência g ricardo stuckert',\n",
       " 'terceiro eixo reforma governança global não conseguimos responder desafios globais porque trocamos multilateralismo ações unilaterais arranjos excludentes romper ciclo vicioso precisamos coragem mudar empenho superar diferenças g brasil',\n",
       " 'º eixo enfrentamento mudança clima g responsável emissões globais gases efeito estufa brasil trouxe debate climático atores bancos centrais bancos públicos desenvolvimento garantir transição justa g brasil',\n",
       " 'três eixos guiam presidência g inclusão social adotamos bases aliança global contra fome pobreza aliança vai mobilizar recursos técnicos financeiros promover políticas públicas eficácia comprovada contra flagelos g brasil',\n",
       " 'brasil trabalhando afinco conseguir avanços concretos agenda g centro prioridades luta contra desigualdade todas formas g brasil',\n",
       " 'ª vez história países g reúnem sede onu encontro aberto todos membros organização não decisão trivial coerente profunda convicção nações unidas devem continuar sendo coração sistema multilateral g brasil',\n",
       " 'primeiro ministro canadá justin trudeau primeiro ministro timor leste xanana gusmão assim representantes noruega colômbia quênia méxico estados unidos',\n",
       " 'agradeço presença presidente governo espanha pedro sánchez presidente frança emmanuel macron presidente cabo verde josé maria neves presidente chile gabriel boric primeira ministra barbados mia mottley',\n",
       " 'experiência brasileira mostrou equilíbrio três poderes resiliência instituições importantes assegurar democracia brasil convidamos países amigos reunião nações democráticas objetivo discutir combate extremismo ricardo stuckert',\n",
       " 'inegável democracia vive momento difícil desde ª guerra mundial notícias falsas atacam sistema eleitoral processos democráticos américa latina europa xenofobia racismo afetam democracias daquele continente extremismo sintoma crise profunda',\n",
       " 'percebendo reunião países defesa democracia combate extremismo apenas primeiro passo muitos encontros precisamos dar fortalecer processo democrático países mundo',\n",
       " 'encontrei hoje grande atriz fernanda torres filme ainda aqui representante brasileiro oscar',\n",
       " 'aliança global contra fome pobreza lançaremos rio janeiro novembro nasce dessa vontade política desse espírito solidariedade principais resultados presidência brasileira g aberta mundo unga',\n",
       " 'mundo produz alimentos suficientes erradicar fome falta criar condições acesso alimentos compromisso urgente governo acabar fome brasil fizemos retiramos milhões condição insegurança alimentar severa unga',\n",
       " 'população mundial subnutrida problema especialmente grave áfrica ásia partes américa latina mulheres meninas maioria situação fome mundo fome não resultado apenas fatores externos decorre escolhas políticas unga',\n",
       " 'fortuna maiores bilionários dobrou passo humanidade ficou pobre super ricos pagam proporcionalmente menos impostos trabalhadores brasil insistido cooperação internacional desenvolver padrões mínimos tributação global unga',\n",
       " 'democracia precisa responder legítimas aspirações não aceitam fome desigualdade desemprego violência mundo globalizado não faz sentido recorrer falsos patriotas isolacionistas unga',\n",
       " 'brasil defesa democracia implica ação permanente ante investidas extremistas messiânicas totalitárias espalham ódio intolerância brasileiras brasileiros continuarão derrotar tentam solapar instituições colocá las serviço interesses reacionários unga',\n",
       " 'além enfrentar crise climática lutamos contra lucra degradação ambiental não transigiremos garimpo ilegal crime organizado reduzimos desmatamento amazônia vamos erradicá lo não admissível pensar soluções ouvir povos indígenas unga',\n",
       " 'furacões caribe tufões ásia inundações áfrica chuvas torrenciais europa sul brasil maior enchente desde amazônia atravessa pior estiagem anos incêndios florestais alastraram governo não terceiriza responsabilidade nem abdica soberania unga',\n",
       " 'planeta farto acordos climáticos não cumpridos cansado metas redução emissão carbono negligenciadas auxílio financeiro não chega negacionismo sucumbe ante evidências aquecimento global caminha ano quente história moderna unga',\n",
       " 'mil vítimas fatais maioria mulheres crianças direito defesa transformou direito vingança impede acordo liberação reféns adia cessar fogo unga',\n",
       " 'gaza cisjordânia assistimos maiores crises humanitárias história recente agora expande perigosamente líbano começou ação terrorista fanáticos contra civis israelenses inocentes tornou punição coletiva todo povo palestino unga',\n",
       " 'ostenta triste recorde maior número conflitos desde ª guerra mundial gastos militares globais cresceram º ano consecutivo atingiram trilhões dólares recursos poderiam ter sido usados combater fome enfrentar mudança clima unga',\n",
       " 'adotamos anteontem pacto futuro difícil aprovação demonstra enfraquecimento capacidade coletiva negociação diálogo precisamos ir além dotar onu meios necessários enfrentar mudanças vertiginosas panorama internacional unga',\n",
       " 'presidente lula discursa º assembleia geral onu unga',\n",
       " 'antes discurso brasil abertura assembleia geral onu lado secretário geral nações unidas antónio guterres ricardo stuckert',\n",
       " 'recebi alegria prêmio goalkeepers instituto bill melinda gates reconhecimento esforço sociedade brasileira redução pobreza combate fome ricardo stuckert',\n",
       " 'durante premiação goalkeepers falei bill gates convidados sobre experiência brasileira bolsa família políticas públicas implementadas governos combate miséria visando retirar país mapa fome',\n",
       " 'g brasil vamos discutir aliança global contra fome pobreza transição energética governança mundial precisamos recuperar papel onu não sendo eficaz goalkeepers',\n",
       " 'acho louvável empresário bill gates fundação ajudar precisa vai resolver problemas miséria mundo políticas públicas goalkeepers',\n",
       " 'obsessão combater fome mundo conta origem inconcebível tecnologia homem ido lua ainda existam crianças passando fome fome não natural fruto decisões humanas goalkeepers',\n",
       " 'reunião bilateral ursula von der leyen presidenta comissão europeia conversamos sobre importância finalização acordo mercosul união europeia dois blocos ricardo stuckert',\n",
       " 'almoço trabalho oferecido chanceler alemanha olaf scholz lado presidente gana nana akufo addo primeiro ministro espanha pedro sánchez primeira ministra barbados mia mottley primeiro ministro canadá justin trudeau ricardo stuckert',\n",
       " 'encontrando amigo olaf scholz bilateral brasil alemanha',\n",
       " 'governo federal pará duplicação br pavimentação br novos institutos federais policlínicas maternidade mil médicos famílias casa própria casa vida mil beneficiados luz todos trabalho continua',\n",
       " 'governo federal investindo pará ajude divulgar principais obras obra nova doca reforma mercado ver peso conclusão ponte rio araguaia ponte sobre rio xingu municípios pac seleções obras creches ubs escolas tempo integral',\n",
       " 'parabéns jogadoras corinthians conquistaram hexa brasileirão exemplo competência dedicação time masculino trabalho igual salários deveriam iguais vai corinthians timão',\n",
       " 'onu aprovamos pacto futuro documento trata forma inédita dívida países desenvolvimento tributação internacional criação instância diálogo líderes nações instituições financeiras promete recolocar onu centro debate econômico mundial',\n",
       " 'preparação cop vamos trabalhar balanço ético global reunindo diversos setores sociedade civil pensar ação climática sob prisma justiça equidade solidariedade ª responsabilidade comum abrir caminhos diante novos riscos oportunidades',\n",
       " 'presidência g brasil lançará aliança global contra fome cop mundo realizou balanço global implementação metas acordo paris níveis atuais redução emissões gases estufa financiamento climático insuficientes cúpuladofuturo',\n",
       " 'duas grandes responsabilidades ª nunca retroceder não podemos recuar promoção igualdade homens mulheres nem luta contra racismo todas formas discriminação tampouco podemos voltar conviver ameaças nucleares cúpuladofuturo',\n",
       " 'reflexão conjunta rendeu frutos comissão consolidação paz conselho direitos humanos outras ideias não saíram papel cúpuladofuturo',\n",
       " 'quase anos então secretário geral kofi annan convidou pensar revigorar multilateralismo fazer frente desafios novo milênio naquela ocasião ressaltei necessidade reformas onu pudesse cumprir papel histórico cúpuladofuturo',\n",
       " 'sede onu participar cúpula futuro acompanhe www youtube live rzei u',\n",
       " 'bahia mil obras pac seleções novos institutos federais novas maternidades policlínicas mil famílias receberam casa vida trabalho governo federal continua',\n",
       " 'trabalhando bahia obras ferrovia integração oeste leste ª planta combustível renovável aviação mil novos empregos duplicação km br municípios ubs obras prevenção risco expansão metrô salvador',\n",
       " 'alguém minas gerais aqui governo federal trabalhando minas duplicação br bh caeté policlínicas nova maternidade novos institutos federais mil médicos trabalhando mil famílias casa vida mil obras estado',\n",
       " 'novos institutos federais mil médicos médicos mil famílias casa vida mil obras ações transporte abastecimento água prevenção desastres trabalho continua parceria municípios estado rio janeiro',\n",
       " 'governo federal voltou trabalhar ter projetos rio janeiro brt transbrasil terminal deodoro gentileza atendendo mil pessoas dia r bilhões obras via dutra rio santos novo campus inca novos hospitais ufrj belford roxo',\n",
       " 'perseguição sofre morto faz aumentar venda livros interesse inclusive jovens ideias brasil exterior paulo freire vive viva paulo freire',\n",
       " 'perseguido expulso universidade preso exilado ditadura militar quarto século morte continua temido odiado extrema direita inimiga feroz educação construção mundo livre desigualdades',\n",
       " 'acreditava revolução pacífica meio educação dizia educação não transforma mundo educação muda pessoas pessoas transformam mundo',\n",
       " 'clássico pedagogia oprimido ª obra citada mundo área humanas prazer honra conviver testemunha profundo amor seres humanos especial oprimidos roubados direito paulo freire dedicou vida',\n",
       " 'hoje setembro dia celebrarmos maiores brasileiros século vivo paulo freire faria anos educador genial patrono educação brasileira paulo freire doutor honoris causa meia centena universidades brasil exterior',\n",
       " 'governo federal trabalhando paulo túnel santos guarujá rodoanel norte intercidades campinas paulo policlínicas novos institutos federais mil obras mil famílias casa vida trabalho continua parceria municípios estado',\n",
       " 'ricardo stuckert',\n",
       " 'hoje entregamos títulos domínio territórios quilombolas aliança santa joana maranhão sítio arruda lagoa pedras encantados bom jardim ceará rosa amapá caiana crioulos paraíba acauã rio grande norte serra guia sergipe cafundó paulo',\n",
       " 'hoje visitei jerônimo comunidade quilombola mamuna maranhão sonho jerônimo conhecer conhecer jerônimo obrigada momento ricardo stuckert',\n",
       " 'tento resolver questão quilombos aqui maranhão desde vezes tomarmos decisão fazer algo ação realmente acontecer passa mãos muitas instituições burocracia finalmente aqui assinando titulação dessas terras centenas famílias']"
      ]
     },
     "execution_count": 33,
     "metadata": {},
     "output_type": "execute_result"
    }
   ],
   "source": [
    "cleaned_posts_text = [clean_text(str(post).lower()) for post in all_posts]\n",
    "cleaned_posts_text"
   ]
  },
  {
   "cell_type": "code",
   "execution_count": 34,
   "metadata": {},
   "outputs": [],
   "source": [
    "results = [is_positive_text(post) for post in cleaned_posts_text if post != '']\n",
    "\n",
    "negative = 0\n",
    "positive = 0\n",
    "\n",
    "positive_phrase = []\n",
    "negative_phrase = []\n",
    "\n",
    "for phrase, result in zip(all_posts, results):\n",
    "    if result:\n",
    "        positive += 1\n",
    "        positive_phrase.append(phrase)\n",
    "    else:\n",
    "        negative += 1\n",
    "        negative_phrase.append(phrase)"
   ]
  },
  {
   "cell_type": "code",
   "execution_count": 35,
   "metadata": {},
   "outputs": [
    {
     "name": "stdout",
     "output_type": "stream",
     "text": [
      "O usuário lula.com.br foi análisado com sucesso!\n",
      "O perfil contém 63 postagens consideradas positivas e 34 postagens consideradas negativas. Um total de 97 postagens foi levado em consideração.\n",
      "\n",
      "O perfil é classificado como um usuário POSITIVO! Parabéns!\n",
      "SALDO: 😊 - 63 | 🤬 - 34.\n"
     ]
    }
   ],
   "source": [
    "print(f'O usuário {bsky_user} foi análisado com sucesso!\\nO perfil contém {positive} postagens consideradas positivas e {negative} postagens consideradas negativas. Um total de {positive + negative} postagens foi levado em consideração.\\n')\n",
    "\n",
    "if positive > negative:\n",
    "    print(f'O perfil é classificado como um usuário POSITIVO! Parabéns!\\nSALDO: 😊 - {positive} | 🤬 - {negative}.')\n",
    "elif negative > positive:\n",
    "    print(f'O perfil é classificado como um usuário NEGATIVO. Monitore suas postagens para não ser visto como alguém negativo.\\nSALDO: 😊 - {positive} | 🤬 - {negative}.')\n",
    "else:\n",
    "    print(f'O perfil é classificado como um usuário NEUTRO. Estar encima do muro nem sempre é legal. \\nSALDO: 😊 - {positive} | 🤬 - {negative}.')"
   ]
  },
  {
   "cell_type": "code",
   "execution_count": 36,
   "metadata": {},
   "outputs": [
    {
     "name": "stdout",
     "output_type": "stream",
     "text": [
      "Comentários Positivos:\n",
      "['\\n'\n",
      " '- Duplicação da BR-163\\n'\n",
      " '- Conclusão da Ponte Brasil-Paraguai\\n'\n",
      " '- Fábrica de Fertilizantes em Araucária\\n'\n",
      " '- 5 novos Institutos Federais\\n'\n",
      " '- 2 novas policlínicas e uma nova maternidade\\n'\n",
      " '- Mais 1,5 mil médicos\\n'\n",
      " '- 73,7 mil famílias beneficiadas do Minha Casa Minha Vida\\n'\n",
      " '\\n'\n",
      " 'Governo federal pelo Paraná.',\n",
      " 'Comitiva brasileira ao lado da nova presidenta do México, Claudia Sheinbaum, '\n",
      " 'desejando um ótimo trabalho e o fortalecimento das relações entre Brasil e '\n",
      " 'México. 🇧🇷🇲🇽\\n'\n",
      " '\\n'\n",
      " '📸 Ricardo Stuckert',\n",
      " 'Reunião com o amigo e presidente mexicano López Obrador no seu último dia de '\n",
      " 'mandato. Além do Brasil, presidentes de Belize, Honduras, Cuba, Colômbia, '\n",
      " 'Chile e Guatemala estiveram presentes. 🇧🇷🇲🇽\\n'\n",
      " '\\n'\n",
      " '📸 Ricardo Stuckert',\n",
      " 'O espaço do Fórum Empresarial Brasil-México é parte dos nossos esforços para '\n",
      " 'fortalecer as trocas comerciais e de investimentos entre nossos países, as '\n",
      " 'duas maiores economias da América Latina. \\n'\n",
      " '\\n'\n",
      " '📸 Ricardo Stuckert',\n",
      " 'Neste 3º mandato, tivemos que reconstruir o Brasil, e assim estamos fazendo: '\n",
      " 'retomando programas sociais, fazendo reajustes salariais e reconstruindo '\n",
      " 'ministérios desmontados pelo governo anterior. #FórumEmpresarialBrasilMéxico']\n",
      "\n",
      "Comentários Negativos:\n",
      "['Para o povo do Paraná, o governo federal tem realizado investimentos em '\n",
      " 'obras e ações para melhorar a vida de quem mora no estado:\\n'\n",
      " '\\n'\n",
      " '- Ampliação de mil km em rodovias\\n'\n",
      " '- R$ 51 bilhões em crédito para a agricultura via Plano Safra\\n'\n",
      " '- R$ 30,4 bilhões para a triplicação da descida da Serra do Mar',\n",
      " 'É importante não trabalhar com o fígado, mas com o coração, numa perspectiva '\n",
      " 'de fazermos melhor do que fizemos no passado, trazendo boas práticas e '\n",
      " 'mudando o que precisa ser mudado. #FórumEmpresarialBrasilMéxico',\n",
      " 'Eu voltei pela 3x para governar o Brasil. Tive muita sorte em todos os meus '\n",
      " 'mandatos. Temos que ter sensibilidade política não só internamente, mas para '\n",
      " 'fortalecer os laços econômicos com outros países, como estamos fazendo aqui '\n",
      " 'entre Brasil\\xa0e\\xa0México. #FórumEmpresarialBrasilMéxico',\n",
      " 'Confira as obras do governo federal no estado de Goiás:\\n'\n",
      " '\\n'\n",
      " '- Entrega da Ferrovia Norte-Sul\\n'\n",
      " '- Ferrovia de Integração Centro-Oeste\\n'\n",
      " '- Complexo Oncológico\\n'\n",
      " '- BRT Luziânia-Brasília\\n'\n",
      " '- Ponte sobre o Rio Araguaia\\n'\n",
      " '- 348 obras incluindo creches, escolas, abastecimento de água e saneamento '\n",
      " 'básico \\n'\n",
      " '\\n'\n",
      " '+',\n",
      " 'Nos despedimos do companheiro Neirobis Kazuo Naga. Ex-prefeito de Angra dos '\n",
      " 'Reis e ex-deputado estadual do Rio de Janeiro, Neirobis também foi '\n",
      " 'secretário de educação municipal, com grande atuação na área, em uma gestão '\n",
      " 'marcada pela valorização dos servidores públicos e em saúde e educação.']\n"
     ]
    }
   ],
   "source": [
    "from pprint import pprint\n",
    "\n",
    "# Mostra os comentários positivos\n",
    "print('Comentários Positivos:')\n",
    "pprint(positive_phrase[:5])\n",
    "\n",
    "\n",
    "# Mostra os comentários negativos\n",
    "print('\\nComentários Negativos:')\n",
    "pprint(negative_phrase[:5])"
   ]
  },
  {
   "cell_type": "code",
   "execution_count": 37,
   "metadata": {},
   "outputs": [],
   "source": [
    "# Testes práticos com dez frases negativas e dez frases positivas\n",
    "\n",
    "test_positive_phrases = [\n",
    "    'Maravilhoso! A melhor compra que já fiz.',\n",
    "    'Parabéns pelo excelente atendimento!',\n",
    "    'Fico muito feliz com o resultado!',\n",
    "    'Ótimo atendimento!',\n",
    "    'Excelente produto!',\n",
    "    'Muito bom!',\n",
    "    'Aproveitei o meu dia!',\n",
    "    'Gostei muito do produto!',\n",
    "    'Muito bem!',\n",
    "    'Fiquei satisfeito com o resultado!'\n",
    "]\n",
    "\n",
    "test_negative_phrases = [\n",
    "    'Péssimo atendimento! O produto não funcionou como o esperado.',\n",
    "    'Atendimento ruim! Não recomendo.',\n",
    "    'Não gostei muito do produto.',\n",
    "    'Péssimo produto!',\n",
    "    'Estou desgostado com o atendimento!',\n",
    "    'Não recomendo este produto.',\n",
    "    'Estou com dificuldades para usar o produto.',\n",
    "    'Não gostei do tempo de entrega.',\n",
    "    'Não gostei do produto.',\n",
    "    'O atendimento foi muito demorado.'\n",
    "]\n",
    "\n",
    "test_results = [{\"frase\": phrase, \"result\": is_positive_text(clean_text(phrase).lower())} for phrase in test_positive_phrases + test_negative_phrases]"
   ]
  },
  {
   "cell_type": "code",
   "execution_count": 38,
   "metadata": {},
   "outputs": [
    {
     "name": "stdout",
     "output_type": "stream",
     "text": [
      "[{'frase': 'Maravilhoso! A melhor compra que já fiz.', 'result': True},\n",
      " {'frase': 'Parabéns pelo excelente atendimento!', 'result': True},\n",
      " {'frase': 'Fico muito feliz com o resultado!', 'result': True},\n",
      " {'frase': 'Ótimo atendimento!', 'result': True},\n",
      " {'frase': 'Excelente produto!', 'result': True},\n",
      " {'frase': 'Muito bom!', 'result': True},\n",
      " {'frase': 'Aproveitei o meu dia!', 'result': True},\n",
      " {'frase': 'Gostei muito do produto!', 'result': True},\n",
      " {'frase': 'Muito bem!', 'result': True},\n",
      " {'frase': 'Fiquei satisfeito com o resultado!', 'result': True},\n",
      " {'frase': 'Estou desgostado com o atendimento!', 'result': True},\n",
      " {'frase': 'Estou com dificuldades para usar o produto.', 'result': True}]\n",
      "Um total de: 12 registros.\n"
     ]
    }
   ],
   "source": [
    "# Exibe os resultados de frases de teste positivas\n",
    "positive_list = list(filter(lambda x: x.get('result') == True, test_results))\n",
    "pprint(positive_list)\n",
    "print(f'Um total de: {len(positive_list)} registros.')"
   ]
  },
  {
   "cell_type": "code",
   "execution_count": 39,
   "metadata": {},
   "outputs": [
    {
     "name": "stdout",
     "output_type": "stream",
     "text": [
      "[{'frase': 'Péssimo atendimento! O produto não funcionou como o esperado.',\n",
      "  'result': False},\n",
      " {'frase': 'Atendimento ruim! Não recomendo.', 'result': False},\n",
      " {'frase': 'Não gostei muito do produto.', 'result': False},\n",
      " {'frase': 'Péssimo produto!', 'result': False},\n",
      " {'frase': 'Não recomendo este produto.', 'result': False},\n",
      " {'frase': 'Não gostei do tempo de entrega.', 'result': False},\n",
      " {'frase': 'Não gostei do produto.', 'result': False},\n",
      " {'frase': 'O atendimento foi muito demorado.', 'result': False}]\n",
      "Um total de: 8 registros.\n"
     ]
    }
   ],
   "source": [
    "# Exibe os resultados de frases de teste negativos\n",
    "negative_list = list(filter(lambda x: x.get('result') == False, test_results))\n",
    "pprint(negative_list)\n",
    "print(f'Um total de: {len(negative_list)} registros.')"
   ]
  },
  {
   "cell_type": "markdown",
   "metadata": {},
   "source": [
    "# E se fossemos trabalhar com Pipelines?\n",
    "\n",
    "Por que Utilizar Pipelines com Scikit-learn?\n",
    "\n",
    "O uso de *pipelines* no *scikit-learn* oferece diversos benefícios ao desenvolver modelos de aprendizado de máquina. A seguir, estão as principais razões para utilizar *pipelines* em seus projetos:\n",
    "\n",
    "1. **Organização e Clareza do Código**:\n",
    "    * **Modularidade**: Pipelines permitem encapsular todo o fluxo de processamento de dados e modelagem em um único objeto sequencial, tornando o código mais limpo e organizado.\n",
    "    * **Manutenção Facilitada**: Com etapas bem definidas, é mais fácil modificar ou ajustar partes específicas do processo sem afetar o restante.\n",
    "\n",
    "2. **Prevenção de Vazamento de Dados (Data Leakage)**:\n",
    "    * **Transformações Consistentes**: Ao aplicar transformações (como normalização ou codificação) dentro de um pipeline, garante-se que essas operações sejam aprendidas apenas nos dados de treinamento e aplicadas de forma consistente nos dados de validação e teste.\n",
    "    * **Avaliação Confiável**: Isso evita que informações dos dados de teste \"vazem\" para o modelo durante o treinamento, proporcionando uma avaliação mais realista do desempenho.\n",
    "\n",
    "3. **Facilita a Validação Cruzada e Otimização de Hiperparâmetros**:\n",
    "    * **Integração com GridSearchCV e RandomizedSearchCV**: Pipelines podem ser usados diretamente com essas ferramentas, permitindo a busca de hiperparâmetros em diferentes etapas (pré-processamento e modelagem) simultaneamente.\n",
    "    * **Automação do Processo**: Simplifica o processo de encontrar a combinação ideal de parâmetros, economizando tempo e esforço.\n",
    "\n",
    "4. **Reprodutibilidade e Compartilhamento de Modelos**:\n",
    "    * **Fluxo de Trabalho Unificado**: Captura todo o processo de preparação e treinamento em um único objeto, facilitando a reprodução dos resultados em diferentes ambientes ou por outros membros da equipe.\n",
    "    * **Serialização**: Pipelines podem ser facilmente salvos (usando pickle, por exemplo) e carregados posteriormente, permitindo o compartilhamento eficiente de modelos treinados.\n",
    "\n",
    "5. **Redução de Erros Humanos**:\n",
    "    * **Processamento Automatizado**: Ao encadear as etapas, reduz-se o risco de esquecer de aplicar uma transformação nos dados de teste ou de cometer inconsistências entre conjuntos de dados.\n",
    "    * **Interface Consistente**: Todos os estimadores e transformadores no scikit-learn seguem a mesma interface (fit, transform, predict), o que facilita a integração das etapas.\n",
    "\n",
    "6. **Flexibilidade e Customização**:\n",
    "    * **Criação de Pipelines Personalizados**: É possível combinar diferentes tipos de transformações e modelos de acordo com as necessidades específicas do projeto.\n",
    "    * **Compatibilidade com Transformadores Customizados**: Você pode criar seus próprios transformadores (herdando de BaseEstimator e TransformerMixin) e usá-los dentro do pipeline."
   ]
  },
  {
   "cell_type": "code",
   "execution_count": 40,
   "metadata": {},
   "outputs": [],
   "source": [
    "pipeline_lr = Pipeline([\n",
    "    ('vectorizer', CountVectorizer(binary=True, max_features=5000)),  # Transformando o texto em vetores numéricos com Bag of Words (CountVectorizer)\n",
    "    ('classifier', LogisticRegression())  # Utilizando a Regressão Logística como classificador\n",
    "])\n",
    "\n",
    "pipeline_nb = Pipeline([\n",
    "    ('tfidf', TfidfVectorizer()),  # Transformando o texto em vetores TF-IDF\n",
    "    ('classifier', MultinomialNB())  # Utilizando o Naive Bayes Multinomial como classificador\n",
    "])"
   ]
  },
  {
   "cell_type": "code",
   "execution_count": 41,
   "metadata": {},
   "outputs": [],
   "source": [
    "# Por garantia, funcionalidade e semântica nós passamos novamente as features e o target e dividimos os dados em treino e teste para passar ao\n",
    "# pipeline de ML.\n",
    "\n",
    "X = df['review']\n",
    "y = df['label']\n",
    "X_train, X_test, y_train, y_test = train_test_split(X, y, test_size=0.2, random_state=42)"
   ]
  },
  {
   "cell_type": "code",
   "execution_count": 42,
   "metadata": {},
   "outputs": [],
   "source": [
    "# Treinando o modelo para o pipeline de LogisticRegression\n",
    "pipeline_lr.fit(X_train, y_train)\n",
    "\n",
    "# Fazendo previsões no conjunto de teste para o pipeline de LogisticRegression\n",
    "y_lr_pred = pipeline_lr.predict(X_test)"
   ]
  },
  {
   "cell_type": "code",
   "execution_count": 43,
   "metadata": {},
   "outputs": [
    {
     "name": "stdout",
     "output_type": "stream",
     "text": [
      "Acurácia:  0.891566265060241\n",
      "AUROC: 0.8763072042657394\n",
      "F1-Score: 0.8910067528794328\n",
      "Matriz de confusão:\n"
     ]
    },
    {
     "data": {
      "image/png": "[encoded data removed]",
      "text/plain": [
       "<Figure size 640x480 with 2 Axes>"
      ]
     },
     "metadata": {},
     "output_type": "display_data"
    }
   ],
   "source": [
    "# Avaliando o modelo de Regressão Logística\n",
    "show_metrics(y_test, y_lr_pred)"
   ]
  },
  {
   "cell_type": "code",
   "execution_count": 44,
   "metadata": {},
   "outputs": [],
   "source": [
    "# Treinando o modelo para o pipeline de Naive Bayers\n",
    "pipeline_nb.fit(X_train, y_train)\n",
    "\n",
    "# Fazendo previsões no conjunto de teste para o pipeline de Naive Bayers\n",
    "y_nb_pred = pipeline_nb.predict(X_test)"
   ]
  },
  {
   "cell_type": "code",
   "execution_count": 45,
   "metadata": {},
   "outputs": [
    {
     "name": "stdout",
     "output_type": "stream",
     "text": [
      "Acurácia:  0.8880009835259405\n",
      "AUROC: 0.8737948941515694\n",
      "F1-Score: 0.887595765310394\n",
      "Matriz de confusão:\n"
     ]
    },
    {
     "data": {
      "image/png": "[encoded data removed]",
      "text/plain": [
       "<Figure size 640x480 with 2 Axes>"
      ]
     },
     "metadata": {},
     "output_type": "display_data"
    }
   ],
   "source": [
    "# Avaliando o modelo de Naive Bayers\n",
    "show_metrics(y_test, y_nb_pred)"
   ]
  }
 ],
 "metadata": {
  "kernelspec": {
   "display_name": "enviroments",
   "language": "python",
   "name": "python3"
  },
  "language_info": {
   "codemirror_mode": {
    "name": "ipython",
    "version": 3
   },
   "file_extension": ".py",
   "mimetype": "text/x-python",
   "name": "python",
   "nbconvert_exporter": "python",
   "pygments_lexer": "ipython3",
   "version": "3.12.4"
  }
 },
 "nbformat": 4,
 "nbformat_minor": 2
}
